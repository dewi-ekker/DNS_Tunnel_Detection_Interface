{
 "cells": [
  {
   "cell_type": "code",
   "execution_count": 1,
   "id": "aacd1086",
   "metadata": {},
   "outputs": [],
   "source": [
    "from pcap_feature_parser import read_pcap\n",
    "import pandas as pd\n",
    "import numpy as np\n",
    "import math\n",
    "import wordninja"
   ]
  },
  {
   "cell_type": "code",
   "execution_count": 2,
   "id": "cb78d480",
   "metadata": {},
   "outputs": [
    {
     "name": "stdout",
     "output_type": "stream",
     "text": [
      "Wall time: 7min 16s\n"
     ]
    }
   ],
   "source": [
    "%%time\n",
    "df = pd.DataFrame()\n",
    "\n",
    "file_list = {'benign plain.pcap':0,\n",
    "             'dns2tcp tunneling.pcap':1,\n",
    "             'dnscapy tunneling.pcap':1,\n",
    "             'iodine tunneling.pcap':1,\n",
    "             'dnscat2_dns_tunneling_1hr.pcap':1,\n",
    "             'tuns_c_00000_20180330104021.pcap':1}\n",
    "\n",
    "for file, label in file_list.items():\n",
    "    df_append = read_pcap('data/pcaps/'+file)\n",
    "    df_append['Label'] = [int(label) for i in df_append.index]\n",
    "    df = pd.concat([df, df_append], axis=0)\n",
    "\n",
    "df = df.reset_index()\n",
    "df = df.drop(columns='index')"
   ]
  },
  {
   "cell_type": "code",
   "execution_count": 3,
   "id": "18a96fe8",
   "metadata": {},
   "outputs": [
    {
     "data": {
      "text/html": [
       "<div>\n",
       "<style scoped>\n",
       "    .dataframe tbody tr th:only-of-type {\n",
       "        vertical-align: middle;\n",
       "    }\n",
       "\n",
       "    .dataframe tbody tr th {\n",
       "        vertical-align: top;\n",
       "    }\n",
       "\n",
       "    .dataframe thead th {\n",
       "        text-align: right;\n",
       "    }\n",
       "</style>\n",
       "<table border=\"1\" class=\"dataframe\">\n",
       "  <thead>\n",
       "    <tr style=\"text-align: right;\">\n",
       "      <th></th>\n",
       "      <th>Source Path</th>\n",
       "      <th>Session</th>\n",
       "      <th>Protocol</th>\n",
       "      <th>Query Name</th>\n",
       "      <th>Payload</th>\n",
       "      <th>RR type</th>\n",
       "      <th>Label</th>\n",
       "      <th>Subdomain</th>\n",
       "      <th>Top Level Domain</th>\n",
       "    </tr>\n",
       "  </thead>\n",
       "  <tbody>\n",
       "    <tr>\n",
       "      <th>0</th>\n",
       "      <td>data/pcaps/benign plain.pcap</td>\n",
       "      <td>UDP 8.8.8.8:53 &gt; 172.17.0.2:45790</td>\n",
       "      <td>17</td>\n",
       "      <td>b'google.com.'</td>\n",
       "      <td>216.58.209.46</td>\n",
       "      <td>1</td>\n",
       "      <td>0</td>\n",
       "      <td></td>\n",
       "      <td>google.com</td>\n",
       "    </tr>\n",
       "    <tr>\n",
       "      <th>1</th>\n",
       "      <td>data/pcaps/benign plain.pcap</td>\n",
       "      <td>UDP 8.8.8.8:53 &gt; 172.17.0.2:43577</td>\n",
       "      <td>17</td>\n",
       "      <td>b'facebook.com.'</td>\n",
       "      <td>185.60.216.35</td>\n",
       "      <td>1</td>\n",
       "      <td>0</td>\n",
       "      <td></td>\n",
       "      <td>facebook.com</td>\n",
       "    </tr>\n",
       "    <tr>\n",
       "      <th>2</th>\n",
       "      <td>data/pcaps/benign plain.pcap</td>\n",
       "      <td>UDP 8.8.8.8:53 &gt; 172.17.0.2:42685</td>\n",
       "      <td>17</td>\n",
       "      <td>b'doubleclick.net.'</td>\n",
       "      <td>172.217.20.206</td>\n",
       "      <td>1</td>\n",
       "      <td>0</td>\n",
       "      <td></td>\n",
       "      <td>doubleclick.net</td>\n",
       "    </tr>\n",
       "    <tr>\n",
       "      <th>3</th>\n",
       "      <td>data/pcaps/benign plain.pcap</td>\n",
       "      <td>UDP 8.8.8.8:53 &gt; 172.17.0.2:42685</td>\n",
       "      <td>17</td>\n",
       "      <td>b'cedexis-test.com.'</td>\n",
       "      <td>103.243.254.42</td>\n",
       "      <td>1</td>\n",
       "      <td>0</td>\n",
       "      <td></td>\n",
       "      <td>cedexis-test.com</td>\n",
       "    </tr>\n",
       "    <tr>\n",
       "      <th>4</th>\n",
       "      <td>data/pcaps/benign plain.pcap</td>\n",
       "      <td>UDP 8.8.8.8:53 &gt; 172.17.0.2:55199</td>\n",
       "      <td>17</td>\n",
       "      <td>b'google-analytics.com.'</td>\n",
       "      <td>172.217.16.36</td>\n",
       "      <td>1</td>\n",
       "      <td>0</td>\n",
       "      <td></td>\n",
       "      <td>google-analytics.com</td>\n",
       "    </tr>\n",
       "    <tr>\n",
       "      <th>...</th>\n",
       "      <td>...</td>\n",
       "      <td>...</td>\n",
       "      <td>...</td>\n",
       "      <td>...</td>\n",
       "      <td>...</td>\n",
       "      <td>...</td>\n",
       "      <td>...</td>\n",
       "      <td>...</td>\n",
       "      <td>...</td>\n",
       "    </tr>\n",
       "    <tr>\n",
       "      <th>27615</th>\n",
       "      <td>data/pcaps/tuns_c_00000_20180330104021.pcap</td>\n",
       "      <td>UDP 172.17.0.2:53 &gt; 172.17.0.3:42758</td>\n",
       "      <td>17</td>\n",
       "      <td>b'r18573.tunnel.tuns.org.'</td>\n",
       "      <td>b'dzero.tunnel.tuns.org.'</td>\n",
       "      <td>5</td>\n",
       "      <td>1</td>\n",
       "      <td>r18573.tunnel</td>\n",
       "      <td>tuns.org</td>\n",
       "    </tr>\n",
       "    <tr>\n",
       "      <th>27616</th>\n",
       "      <td>data/pcaps/tuns_c_00000_20180330104021.pcap</td>\n",
       "      <td>UDP 172.17.0.2:53 &gt; 172.17.0.3:42758</td>\n",
       "      <td>17</td>\n",
       "      <td>b'dIUEABDEJ7NAAAQAGTRSAUAAAAMFAAAAC37CAAFUWXCI...</td>\n",
       "      <td>b'l0.tunnel.tuns.org.'</td>\n",
       "      <td>5</td>\n",
       "      <td>1</td>\n",
       "      <td>dIUEABDEJ7NAAAQAGTRSAUAAAAMFAAAAC37CAAFUWXCIDO...</td>\n",
       "      <td>tuns.org</td>\n",
       "    </tr>\n",
       "    <tr>\n",
       "      <th>27617</th>\n",
       "      <td>data/pcaps/tuns_c_00000_20180330104021.pcap</td>\n",
       "      <td>UDP 172.17.0.2:53 &gt; 172.17.0.3:42758</td>\n",
       "      <td>17</td>\n",
       "      <td>b'r18574.tunnel.tuns.org.'</td>\n",
       "      <td>b'dIUEAAUAHWVAAAQAGD3TQUAAAAIFAAAADAALN7RA6F5T...</td>\n",
       "      <td>5</td>\n",
       "      <td>1</td>\n",
       "      <td>r18574.tunnel</td>\n",
       "      <td>tuns.org</td>\n",
       "    </tr>\n",
       "    <tr>\n",
       "      <th>27618</th>\n",
       "      <td>data/pcaps/tuns_c_00000_20180330104021.pcap</td>\n",
       "      <td>UDP 172.17.0.2:53 &gt; 172.17.0.3:42758</td>\n",
       "      <td>17</td>\n",
       "      <td>b'dIUEABDEJ7RAAAQAGTRRQUAAAAMFAAAAC37CAAFUWXCI...</td>\n",
       "      <td>b'l0.tunnel.tuns.org.'</td>\n",
       "      <td>5</td>\n",
       "      <td>1</td>\n",
       "      <td>dIUEABDEJ7RAAAQAGTRRQUAAAAMFAAAAC37CAAFUWXCII6...</td>\n",
       "      <td>tuns.org</td>\n",
       "    </tr>\n",
       "    <tr>\n",
       "      <th>27619</th>\n",
       "      <td>data/pcaps/tuns_c_00000_20180330104021.pcap</td>\n",
       "      <td>UDP 172.17.0.2:53 &gt; 172.17.0.3:42758</td>\n",
       "      <td>17</td>\n",
       "      <td>b'r18575.tunnel.tuns.org.'</td>\n",
       "      <td>b'dIUEAAUAHWZAAAQAGD3TAUAAAAIFAAAADAALN7RA6F5T...</td>\n",
       "      <td>5</td>\n",
       "      <td>1</td>\n",
       "      <td>r18575.tunnel</td>\n",
       "      <td>tuns.org</td>\n",
       "    </tr>\n",
       "  </tbody>\n",
       "</table>\n",
       "<p>27620 rows × 9 columns</p>\n",
       "</div>"
      ],
      "text/plain": [
       "                                       Source Path  \\\n",
       "0                     data/pcaps/benign plain.pcap   \n",
       "1                     data/pcaps/benign plain.pcap   \n",
       "2                     data/pcaps/benign plain.pcap   \n",
       "3                     data/pcaps/benign plain.pcap   \n",
       "4                     data/pcaps/benign plain.pcap   \n",
       "...                                            ...   \n",
       "27615  data/pcaps/tuns_c_00000_20180330104021.pcap   \n",
       "27616  data/pcaps/tuns_c_00000_20180330104021.pcap   \n",
       "27617  data/pcaps/tuns_c_00000_20180330104021.pcap   \n",
       "27618  data/pcaps/tuns_c_00000_20180330104021.pcap   \n",
       "27619  data/pcaps/tuns_c_00000_20180330104021.pcap   \n",
       "\n",
       "                                    Session Protocol  \\\n",
       "0         UDP 8.8.8.8:53 > 172.17.0.2:45790       17   \n",
       "1         UDP 8.8.8.8:53 > 172.17.0.2:43577       17   \n",
       "2         UDP 8.8.8.8:53 > 172.17.0.2:42685       17   \n",
       "3         UDP 8.8.8.8:53 > 172.17.0.2:42685       17   \n",
       "4         UDP 8.8.8.8:53 > 172.17.0.2:55199       17   \n",
       "...                                     ...      ...   \n",
       "27615  UDP 172.17.0.2:53 > 172.17.0.3:42758       17   \n",
       "27616  UDP 172.17.0.2:53 > 172.17.0.3:42758       17   \n",
       "27617  UDP 172.17.0.2:53 > 172.17.0.3:42758       17   \n",
       "27618  UDP 172.17.0.2:53 > 172.17.0.3:42758       17   \n",
       "27619  UDP 172.17.0.2:53 > 172.17.0.3:42758       17   \n",
       "\n",
       "                                              Query Name  \\\n",
       "0                                         b'google.com.'   \n",
       "1                                       b'facebook.com.'   \n",
       "2                                    b'doubleclick.net.'   \n",
       "3                                   b'cedexis-test.com.'   \n",
       "4                               b'google-analytics.com.'   \n",
       "...                                                  ...   \n",
       "27615                         b'r18573.tunnel.tuns.org.'   \n",
       "27616  b'dIUEABDEJ7NAAAQAGTRSAUAAAAMFAAAAC37CAAFUWXCI...   \n",
       "27617                         b'r18574.tunnel.tuns.org.'   \n",
       "27618  b'dIUEABDEJ7RAAAQAGTRRQUAAAAMFAAAAC37CAAFUWXCI...   \n",
       "27619                         b'r18575.tunnel.tuns.org.'   \n",
       "\n",
       "                                                 Payload RR type  Label  \\\n",
       "0                                          216.58.209.46       1      0   \n",
       "1                                          185.60.216.35       1      0   \n",
       "2                                         172.217.20.206       1      0   \n",
       "3                                         103.243.254.42       1      0   \n",
       "4                                          172.217.16.36       1      0   \n",
       "...                                                  ...     ...    ...   \n",
       "27615                          b'dzero.tunnel.tuns.org.'       5      1   \n",
       "27616                             b'l0.tunnel.tuns.org.'       5      1   \n",
       "27617  b'dIUEAAUAHWVAAAQAGD3TQUAAAAIFAAAADAALN7RA6F5T...       5      1   \n",
       "27618                             b'l0.tunnel.tuns.org.'       5      1   \n",
       "27619  b'dIUEAAUAHWZAAAQAGD3TAUAAAAIFAAAADAALN7RA6F5T...       5      1   \n",
       "\n",
       "                                               Subdomain      Top Level Domain  \n",
       "0                                                                   google.com  \n",
       "1                                                                 facebook.com  \n",
       "2                                                              doubleclick.net  \n",
       "3                                                             cedexis-test.com  \n",
       "4                                                         google-analytics.com  \n",
       "...                                                  ...                   ...  \n",
       "27615                                      r18573.tunnel              tuns.org  \n",
       "27616  dIUEABDEJ7NAAAQAGTRSAUAAAAMFAAAAC37CAAFUWXCIDO...              tuns.org  \n",
       "27617                                      r18574.tunnel              tuns.org  \n",
       "27618  dIUEABDEJ7RAAAQAGTRRQUAAAAMFAAAAC37CAAFUWXCII6...              tuns.org  \n",
       "27619                                      r18575.tunnel              tuns.org  \n",
       "\n",
       "[27620 rows x 9 columns]"
      ]
     },
     "metadata": {},
     "output_type": "display_data"
    }
   ],
   "source": [
    "#df.insert(1, 'Label', [int(label) for i in df.index])\n",
    "\n",
    "def splitquery(x):\n",
    "    groups = x.rsplit('.',3)\n",
    "    SD = groups[0].lstrip('b\\'') if len(groups)==4 else ''\n",
    "    TLD = '.'.join(groups[-3:-1]).lstrip('b\\'')\n",
    "    return SD, TLD\n",
    "\n",
    "df[['Subdomain','Top Level Domain']] = [splitquery(query) for query in df['Query Name']]\n",
    "\n",
    "display(df)"
   ]
  },
  {
   "cell_type": "code",
   "execution_count": 4,
   "id": "0c7e16cc",
   "metadata": {},
   "outputs": [
    {
     "data": {
      "text/html": [
       "<div>\n",
       "<style scoped>\n",
       "    .dataframe tbody tr th:only-of-type {\n",
       "        vertical-align: middle;\n",
       "    }\n",
       "\n",
       "    .dataframe tbody tr th {\n",
       "        vertical-align: top;\n",
       "    }\n",
       "\n",
       "    .dataframe thead th {\n",
       "        text-align: right;\n",
       "    }\n",
       "</style>\n",
       "<table border=\"1\" class=\"dataframe\">\n",
       "  <thead>\n",
       "    <tr style=\"text-align: right;\">\n",
       "      <th></th>\n",
       "      <th>Label</th>\n",
       "      <th>Source Path</th>\n",
       "      <th>Session</th>\n",
       "      <th>Protocol</th>\n",
       "      <th>Query Name</th>\n",
       "      <th>Subdomain</th>\n",
       "      <th>Top Level Domain</th>\n",
       "      <th>Payload</th>\n",
       "      <th>RR type</th>\n",
       "    </tr>\n",
       "  </thead>\n",
       "  <tbody>\n",
       "    <tr>\n",
       "      <th>0</th>\n",
       "      <td>0</td>\n",
       "      <td>data/pcaps/benign plain.pcap</td>\n",
       "      <td>UDP 8.8.8.8:53 &gt; 172.17.0.2:45790</td>\n",
       "      <td>17</td>\n",
       "      <td>b'google.com.'</td>\n",
       "      <td></td>\n",
       "      <td>google.com</td>\n",
       "      <td>216.58.209.46</td>\n",
       "      <td>1</td>\n",
       "    </tr>\n",
       "    <tr>\n",
       "      <th>1</th>\n",
       "      <td>0</td>\n",
       "      <td>data/pcaps/benign plain.pcap</td>\n",
       "      <td>UDP 8.8.8.8:53 &gt; 172.17.0.2:43577</td>\n",
       "      <td>17</td>\n",
       "      <td>b'facebook.com.'</td>\n",
       "      <td></td>\n",
       "      <td>facebook.com</td>\n",
       "      <td>185.60.216.35</td>\n",
       "      <td>1</td>\n",
       "    </tr>\n",
       "    <tr>\n",
       "      <th>2</th>\n",
       "      <td>0</td>\n",
       "      <td>data/pcaps/benign plain.pcap</td>\n",
       "      <td>UDP 8.8.8.8:53 &gt; 172.17.0.2:42685</td>\n",
       "      <td>17</td>\n",
       "      <td>b'doubleclick.net.'</td>\n",
       "      <td></td>\n",
       "      <td>doubleclick.net</td>\n",
       "      <td>172.217.20.206</td>\n",
       "      <td>1</td>\n",
       "    </tr>\n",
       "    <tr>\n",
       "      <th>3</th>\n",
       "      <td>0</td>\n",
       "      <td>data/pcaps/benign plain.pcap</td>\n",
       "      <td>UDP 8.8.8.8:53 &gt; 172.17.0.2:42685</td>\n",
       "      <td>17</td>\n",
       "      <td>b'cedexis-test.com.'</td>\n",
       "      <td></td>\n",
       "      <td>cedexis-test.com</td>\n",
       "      <td>103.243.254.42</td>\n",
       "      <td>1</td>\n",
       "    </tr>\n",
       "    <tr>\n",
       "      <th>4</th>\n",
       "      <td>0</td>\n",
       "      <td>data/pcaps/benign plain.pcap</td>\n",
       "      <td>UDP 8.8.8.8:53 &gt; 172.17.0.2:55199</td>\n",
       "      <td>17</td>\n",
       "      <td>b'google-analytics.com.'</td>\n",
       "      <td></td>\n",
       "      <td>google-analytics.com</td>\n",
       "      <td>172.217.16.36</td>\n",
       "      <td>1</td>\n",
       "    </tr>\n",
       "    <tr>\n",
       "      <th>...</th>\n",
       "      <td>...</td>\n",
       "      <td>...</td>\n",
       "      <td>...</td>\n",
       "      <td>...</td>\n",
       "      <td>...</td>\n",
       "      <td>...</td>\n",
       "      <td>...</td>\n",
       "      <td>...</td>\n",
       "      <td>...</td>\n",
       "    </tr>\n",
       "    <tr>\n",
       "      <th>27615</th>\n",
       "      <td>1</td>\n",
       "      <td>data/pcaps/tuns_c_00000_20180330104021.pcap</td>\n",
       "      <td>UDP 172.17.0.2:53 &gt; 172.17.0.3:42758</td>\n",
       "      <td>17</td>\n",
       "      <td>b'r18573.tunnel.tuns.org.'</td>\n",
       "      <td>r18573.tunnel</td>\n",
       "      <td>tuns.org</td>\n",
       "      <td>b'dzero.tunnel.tuns.org.'</td>\n",
       "      <td>5</td>\n",
       "    </tr>\n",
       "    <tr>\n",
       "      <th>27616</th>\n",
       "      <td>1</td>\n",
       "      <td>data/pcaps/tuns_c_00000_20180330104021.pcap</td>\n",
       "      <td>UDP 172.17.0.2:53 &gt; 172.17.0.3:42758</td>\n",
       "      <td>17</td>\n",
       "      <td>b'dIUEABDEJ7NAAAQAGTRSAUAAAAMFAAAAC37CAAFUWXCI...</td>\n",
       "      <td>dIUEABDEJ7NAAAQAGTRSAUAAAAMFAAAAC37CAAFUWXCIDO...</td>\n",
       "      <td>tuns.org</td>\n",
       "      <td>b'l0.tunnel.tuns.org.'</td>\n",
       "      <td>5</td>\n",
       "    </tr>\n",
       "    <tr>\n",
       "      <th>27617</th>\n",
       "      <td>1</td>\n",
       "      <td>data/pcaps/tuns_c_00000_20180330104021.pcap</td>\n",
       "      <td>UDP 172.17.0.2:53 &gt; 172.17.0.3:42758</td>\n",
       "      <td>17</td>\n",
       "      <td>b'r18574.tunnel.tuns.org.'</td>\n",
       "      <td>r18574.tunnel</td>\n",
       "      <td>tuns.org</td>\n",
       "      <td>b'dIUEAAUAHWVAAAQAGD3TQUAAAAIFAAAADAALN7RA6F5T...</td>\n",
       "      <td>5</td>\n",
       "    </tr>\n",
       "    <tr>\n",
       "      <th>27618</th>\n",
       "      <td>1</td>\n",
       "      <td>data/pcaps/tuns_c_00000_20180330104021.pcap</td>\n",
       "      <td>UDP 172.17.0.2:53 &gt; 172.17.0.3:42758</td>\n",
       "      <td>17</td>\n",
       "      <td>b'dIUEABDEJ7RAAAQAGTRRQUAAAAMFAAAAC37CAAFUWXCI...</td>\n",
       "      <td>dIUEABDEJ7RAAAQAGTRRQUAAAAMFAAAAC37CAAFUWXCII6...</td>\n",
       "      <td>tuns.org</td>\n",
       "      <td>b'l0.tunnel.tuns.org.'</td>\n",
       "      <td>5</td>\n",
       "    </tr>\n",
       "    <tr>\n",
       "      <th>27619</th>\n",
       "      <td>1</td>\n",
       "      <td>data/pcaps/tuns_c_00000_20180330104021.pcap</td>\n",
       "      <td>UDP 172.17.0.2:53 &gt; 172.17.0.3:42758</td>\n",
       "      <td>17</td>\n",
       "      <td>b'r18575.tunnel.tuns.org.'</td>\n",
       "      <td>r18575.tunnel</td>\n",
       "      <td>tuns.org</td>\n",
       "      <td>b'dIUEAAUAHWZAAAQAGD3TAUAAAAIFAAAADAALN7RA6F5T...</td>\n",
       "      <td>5</td>\n",
       "    </tr>\n",
       "  </tbody>\n",
       "</table>\n",
       "<p>27620 rows × 9 columns</p>\n",
       "</div>"
      ],
      "text/plain": [
       "       Label                                  Source Path  \\\n",
       "0          0                 data/pcaps/benign plain.pcap   \n",
       "1          0                 data/pcaps/benign plain.pcap   \n",
       "2          0                 data/pcaps/benign plain.pcap   \n",
       "3          0                 data/pcaps/benign plain.pcap   \n",
       "4          0                 data/pcaps/benign plain.pcap   \n",
       "...      ...                                          ...   \n",
       "27615      1  data/pcaps/tuns_c_00000_20180330104021.pcap   \n",
       "27616      1  data/pcaps/tuns_c_00000_20180330104021.pcap   \n",
       "27617      1  data/pcaps/tuns_c_00000_20180330104021.pcap   \n",
       "27618      1  data/pcaps/tuns_c_00000_20180330104021.pcap   \n",
       "27619      1  data/pcaps/tuns_c_00000_20180330104021.pcap   \n",
       "\n",
       "                                    Session Protocol  \\\n",
       "0         UDP 8.8.8.8:53 > 172.17.0.2:45790       17   \n",
       "1         UDP 8.8.8.8:53 > 172.17.0.2:43577       17   \n",
       "2         UDP 8.8.8.8:53 > 172.17.0.2:42685       17   \n",
       "3         UDP 8.8.8.8:53 > 172.17.0.2:42685       17   \n",
       "4         UDP 8.8.8.8:53 > 172.17.0.2:55199       17   \n",
       "...                                     ...      ...   \n",
       "27615  UDP 172.17.0.2:53 > 172.17.0.3:42758       17   \n",
       "27616  UDP 172.17.0.2:53 > 172.17.0.3:42758       17   \n",
       "27617  UDP 172.17.0.2:53 > 172.17.0.3:42758       17   \n",
       "27618  UDP 172.17.0.2:53 > 172.17.0.3:42758       17   \n",
       "27619  UDP 172.17.0.2:53 > 172.17.0.3:42758       17   \n",
       "\n",
       "                                              Query Name  \\\n",
       "0                                         b'google.com.'   \n",
       "1                                       b'facebook.com.'   \n",
       "2                                    b'doubleclick.net.'   \n",
       "3                                   b'cedexis-test.com.'   \n",
       "4                               b'google-analytics.com.'   \n",
       "...                                                  ...   \n",
       "27615                         b'r18573.tunnel.tuns.org.'   \n",
       "27616  b'dIUEABDEJ7NAAAQAGTRSAUAAAAMFAAAAC37CAAFUWXCI...   \n",
       "27617                         b'r18574.tunnel.tuns.org.'   \n",
       "27618  b'dIUEABDEJ7RAAAQAGTRRQUAAAAMFAAAAC37CAAFUWXCI...   \n",
       "27619                         b'r18575.tunnel.tuns.org.'   \n",
       "\n",
       "                                               Subdomain  \\\n",
       "0                                                          \n",
       "1                                                          \n",
       "2                                                          \n",
       "3                                                          \n",
       "4                                                          \n",
       "...                                                  ...   \n",
       "27615                                      r18573.tunnel   \n",
       "27616  dIUEABDEJ7NAAAQAGTRSAUAAAAMFAAAAC37CAAFUWXCIDO...   \n",
       "27617                                      r18574.tunnel   \n",
       "27618  dIUEABDEJ7RAAAQAGTRRQUAAAAMFAAAAC37CAAFUWXCII6...   \n",
       "27619                                      r18575.tunnel   \n",
       "\n",
       "           Top Level Domain  \\\n",
       "0                google.com   \n",
       "1              facebook.com   \n",
       "2           doubleclick.net   \n",
       "3          cedexis-test.com   \n",
       "4      google-analytics.com   \n",
       "...                     ...   \n",
       "27615              tuns.org   \n",
       "27616              tuns.org   \n",
       "27617              tuns.org   \n",
       "27618              tuns.org   \n",
       "27619              tuns.org   \n",
       "\n",
       "                                                 Payload RR type  \n",
       "0                                          216.58.209.46       1  \n",
       "1                                          185.60.216.35       1  \n",
       "2                                         172.217.20.206       1  \n",
       "3                                         103.243.254.42       1  \n",
       "4                                          172.217.16.36       1  \n",
       "...                                                  ...     ...  \n",
       "27615                          b'dzero.tunnel.tuns.org.'       5  \n",
       "27616                             b'l0.tunnel.tuns.org.'       5  \n",
       "27617  b'dIUEAAUAHWVAAAQAGD3TQUAAAAIFAAAADAALN7RA6F5T...       5  \n",
       "27618                             b'l0.tunnel.tuns.org.'       5  \n",
       "27619  b'dIUEAAUAHWZAAAQAGD3TAUAAAAIFAAAADAALN7RA6F5T...       5  \n",
       "\n",
       "[27620 rows x 9 columns]"
      ]
     },
     "metadata": {},
     "output_type": "display_data"
    }
   ],
   "source": [
    "cols = ['Label','Source Path','Session','Protocol','Query Name','Subdomain','Top Level Domain','Payload','RR type']\n",
    "df = df.loc[:, cols] # reorder columns\n",
    "display(df)"
   ]
  },
  {
   "cell_type": "code",
   "execution_count": 5,
   "id": "5482d399",
   "metadata": {},
   "outputs": [
    {
     "name": "stdout",
     "output_type": "stream",
     "text": [
      "Wall time: 7.07 s\n"
     ]
    }
   ],
   "source": [
    "%%time\n",
    "\n",
    "def shannon(x):\n",
    "    x = str(x)\n",
    "    freqs = (\n",
    "        float(x.count(c))/len(x)\n",
    "        for c in set(x))\n",
    "    return -sum((\n",
    "        prob * math.log(prob, 2)\n",
    "        for prob in freqs))\n",
    "\n",
    "df['Query Name Entropy'] = [shannon(name) for name in df['Query Name']]\n",
    "df['Subdomain Entropy'] = [shannon(name) for name in df['Subdomain']]\n",
    "df['Payload Entropy'] = [shannon(name) for name in df['Payload']]\n"
   ]
  },
  {
   "cell_type": "code",
   "execution_count": 6,
   "id": "44e39525",
   "metadata": {},
   "outputs": [
    {
     "name": "stdout",
     "output_type": "stream",
     "text": [
      "Wall time: 2min 25s\n"
     ]
    }
   ],
   "source": [
    "%%time\n",
    "df['longest word Subdomain'] = [len(max(wordninja.split(name), key=len, default='')) for name in df['Subdomain']]"
   ]
  },
  {
   "cell_type": "code",
   "execution_count": 7,
   "id": "8ebddd22",
   "metadata": {},
   "outputs": [
    {
     "name": "stdout",
     "output_type": "stream",
     "text": [
      "Wall time: 32.9 s\n"
     ]
    }
   ],
   "source": [
    "%%time\n",
    "df['longest word Payload'] = [len(max(wordninja.split(name), key=len, default='')) for name in df['Payload']]"
   ]
  },
  {
   "cell_type": "code",
   "execution_count": 8,
   "id": "358ac800",
   "metadata": {},
   "outputs": [],
   "source": [
    "\n",
    "    def count(x):\n",
    "        x = str(x)\n",
    "        total = len(x)\n",
    "        uppercase, lowercase, numeric, special = 0, 0, 0, 0\n",
    "        for i in range(total):\n",
    "            if x[i].isupper():\n",
    "                uppercase += 1\n",
    "            elif x[i].islower():\n",
    "                lowercase += 1\n",
    "            elif x[i].isdigit():\n",
    "                numeric += 1\n",
    "            else:\n",
    "                special += 1\n",
    "        return [total, uppercase, lowercase, numeric, special]\n",
    "\n",
    "    df[['Character Count', \n",
    "        'Uppercase Count', \n",
    "        'Lowercase Count', \n",
    "        'Numeric Count', \n",
    "        'Special Char Count']] = [count(name) for name in df['Query Name']]\n",
    "    \n",
    "    df[['Subdomain Character Count', \n",
    "        'Subdomain Uppercase Count', \n",
    "        'Subdomain Lowercase Count', \n",
    "        'Subdomain Numeric Count', \n",
    "        'Subdomain Special Char Count']] = [count(name) for name in df['Subdomain']]\n",
    "    \n",
    "    df[['Payload Character Count', \n",
    "        'Payload Uppercase Count', \n",
    "        'Payload Lowercase Count', \n",
    "        'Payload Numeric Count', \n",
    "        'Payload Special Char Count']] = [count(name) for name in df['Payload']]\n",
    "\n",
    "    df['Dashes Count'] = [str(name).count('-') for name in df['Query Name']]\n",
    "    df['Slashes Count'] = [str(name).count('/') for name in df['Query Name']]\n",
    "    df['Periods Count'] = [str(name).count('.') for name in df['Query Name']]\n",
    "    df['Equal Signs Count'] = [str(name).count('=') for name in df['Query Name']]"
   ]
  },
  {
   "cell_type": "code",
   "execution_count": 9,
   "id": "6befcc9a",
   "metadata": {},
   "outputs": [
    {
     "name": "stdout",
     "output_type": "stream",
     "text": [
      "Wall time: 0 ns\n"
     ]
    }
   ],
   "source": [
    "%%time\n",
    "\n",
    "def ratio(x):\n",
    "    x = str(x)\n",
    "    total = len(x)\n",
    "    uppercase, lowercase, numeric, special = 0,0,0,0\n",
    "    if total != 0:\n",
    "        for i in range(total):\n",
    "            if x[i].isupper():\n",
    "                uppercase += 1\n",
    "            elif x[i].islower():\n",
    "                lowercase += 1\n",
    "            elif x[i].isdigit():\n",
    "                numeric += 1\n",
    "            else:\n",
    "                special += 1\n",
    "        return [uppercase/total, lowercase/total, numeric/total, special/total]\n",
    "    else:\n",
    "        return 0,0,0,0\n",
    "\n",
    "#df[['Uppercase Ratio', 'Lowercase Ratio', 'Numeric Ratio', 'Special Char Ratio']] = [ratio(name) for name in df['Query Name']]\n"
   ]
  },
  {
   "cell_type": "code",
   "execution_count": 10,
   "id": "330ae1c7",
   "metadata": {},
   "outputs": [
    {
     "name": "stdout",
     "output_type": "stream",
     "text": [
      "Wall time: 920 ms\n"
     ]
    }
   ],
   "source": [
    "%%time\n",
    "df[['Payload Uppercase Ratio', 'Payload Lowercase Ratio', 'Payload Numeric Ratio', 'Payload Special Char Ratio']] = [ratio(name) for name in df['Payload']]"
   ]
  },
  {
   "cell_type": "code",
   "execution_count": 11,
   "id": "7703d4f5",
   "metadata": {},
   "outputs": [
    {
     "name": "stdout",
     "output_type": "stream",
     "text": [
      "Wall time: 3.67 s\n"
     ]
    }
   ],
   "source": [
    "%%time\n",
    "df[['Subdomain Uppercase Ratio', 'Subdomain Lowercase Ratio', 'Subdomain Numeric Ratio', 'Subdomain Special Char Ratio']] = [ratio(name) for name in df['Subdomain']]"
   ]
  },
  {
   "cell_type": "code",
   "execution_count": 12,
   "id": "052fc06b",
   "metadata": {},
   "outputs": [
    {
     "name": "stdout",
     "output_type": "stream",
     "text": [
      "Wall time: 42.9 ms\n"
     ]
    }
   ],
   "source": [
    "%%time\n",
    "df['Packets in Session'] = df.groupby('Session')['Session'].transform('count')"
   ]
  },
  {
   "cell_type": "code",
   "execution_count": 13,
   "id": "39067d7f",
   "metadata": {},
   "outputs": [
    {
     "name": "stdout",
     "output_type": "stream",
     "text": [
      "Wall time: 40.9 s\n"
     ]
    }
   ],
   "source": [
    "%%time\n",
    "\n",
    "df['Avg Query Name Length (Session)'] = df.groupby('Session')['Query Name'].transform(lambda x: np.mean(x.str.len()))\n",
    "df['Avg Subdomain Length (Session)'] = df.groupby('Session')['Subdomain'].transform(lambda x: np.mean(x.str.len()))\n"
   ]
  },
  {
   "cell_type": "code",
   "execution_count": 14,
   "id": "414d3222",
   "metadata": {},
   "outputs": [
    {
     "name": "stdout",
     "output_type": "stream",
     "text": [
      "Wall time: 23 s\n"
     ]
    }
   ],
   "source": [
    "%%time\n",
    "df['Avg Payload Length (Session)'] = df.groupby('Session')['Payload'].transform(lambda x: np.mean(x.str.len()))"
   ]
  },
  {
   "cell_type": "code",
   "execution_count": 15,
   "id": "5dd8cc5f",
   "metadata": {},
   "outputs": [
    {
     "name": "stdout",
     "output_type": "stream",
     "text": [
      "['Label',\n",
      " 'Source Path',\n",
      " 'Session',\n",
      " 'Protocol',\n",
      " 'Query Name',\n",
      " 'Subdomain',\n",
      " 'Top Level Domain',\n",
      " 'Payload',\n",
      " 'RR type',\n",
      " 'Query Name Entropy',\n",
      " 'Subdomain Entropy',\n",
      " 'Payload Entropy',\n",
      " 'longest word Subdomain',\n",
      " 'longest word Payload',\n",
      " 'Character Count',\n",
      " 'Uppercase Count',\n",
      " 'Lowercase Count',\n",
      " 'Numeric Count',\n",
      " 'Special Char Count',\n",
      " 'Subdomain Character Count',\n",
      " 'Subdomain Uppercase Count',\n",
      " 'Subdomain Lowercase Count',\n",
      " 'Subdomain Numeric Count',\n",
      " 'Subdomain Special Char Count',\n",
      " 'Payload Character Count',\n",
      " 'Payload Uppercase Count',\n",
      " 'Payload Lowercase Count',\n",
      " 'Payload Numeric Count',\n",
      " 'Payload Special Char Count',\n",
      " 'Dashes Count',\n",
      " 'Slashes Count',\n",
      " 'Periods Count',\n",
      " 'Equal Signs Count',\n",
      " 'Payload Uppercase Ratio',\n",
      " 'Payload Lowercase Ratio',\n",
      " 'Payload Numeric Ratio',\n",
      " 'Payload Special Char Ratio',\n",
      " 'Subdomain Uppercase Ratio',\n",
      " 'Subdomain Lowercase Ratio',\n",
      " 'Subdomain Numeric Ratio',\n",
      " 'Subdomain Special Char Ratio',\n",
      " 'Packets in Session',\n",
      " 'Avg Query Name Length (Session)',\n",
      " 'Avg Subdomain Length (Session)',\n",
      " 'Avg Payload Length (Session)']\n"
     ]
    }
   ],
   "source": [
    "from pprint import pprint\n",
    "pprint(list(df.columns))"
   ]
  },
  {
   "cell_type": "code",
   "execution_count": 16,
   "id": "a6130d97",
   "metadata": {},
   "outputs": [
    {
     "name": "stdout",
     "output_type": "stream",
     "text": [
      "['RR type', 'Query Name Entropy', 'Subdomain Entropy', 'Payload Entropy', 'longest word Subdomain', 'longest word Payload', 'Character Count', 'Uppercase Count', 'Lowercase Count', 'Numeric Count', 'Special Char Count', 'Subdomain Character Count', 'Subdomain Uppercase Count', 'Subdomain Lowercase Count', 'Subdomain Numeric Count', 'Subdomain Special Char Count', 'Payload Character Count', 'Payload Uppercase Count', 'Payload Lowercase Count', 'Payload Numeric Count', 'Payload Special Char Count', 'Dashes Count', 'Slashes Count', 'Periods Count', 'Equal Signs Count', 'Payload Uppercase Ratio', 'Payload Lowercase Ratio', 'Payload Numeric Ratio', 'Payload Special Char Ratio', 'Subdomain Uppercase Ratio', 'Subdomain Lowercase Ratio', 'Subdomain Numeric Ratio', 'Subdomain Special Char Ratio', 'Packets in Session', 'Avg Query Name Length (Session)', 'Avg Subdomain Length (Session)', 'Avg Payload Length (Session)']\n"
     ]
    }
   ],
   "source": [
    "print(list(df.columns)[8:])"
   ]
  },
  {
   "cell_type": "code",
   "execution_count": 17,
   "id": "03b0261d",
   "metadata": {},
   "outputs": [
    {
     "data": {
      "text/plain": [
       "RandomForestClassifier(max_depth=10, max_features=10, min_samples_leaf=0.1,\n",
       "                       min_samples_split=0.2, n_estimators=1000)"
      ]
     },
     "execution_count": 17,
     "metadata": {},
     "output_type": "execute_result"
    }
   ],
   "source": [
    "from sklearn.ensemble import RandomForestClassifier\n",
    "\n",
    "test_grid = {'bootstrap': True,\n",
    "             'n_estimators': 1000,\n",
    "             'max_features': 10,\n",
    "             'max_depth': 10,\n",
    "             'min_samples_leaf': 0.1,\n",
    "             'min_samples_split': 0.2\n",
    "             }\n",
    "\n",
    "rf = RandomForestClassifier()\n",
    "rf.set_params(**test_grid)"
   ]
  },
  {
   "cell_type": "code",
   "execution_count": 18,
   "id": "a4198a5c",
   "metadata": {},
   "outputs": [],
   "source": [
    "import matplotlib.pyplot as plt\n",
    "\n",
    "def plot_fi(rf, df, features):\n",
    "    x = np.array(df.loc[:,features].fillna(0))\n",
    "    y = np.array(df['Label'])\n",
    "\n",
    "    rf.fit(x,y)\n",
    "\n",
    "    importances = pd.DataFrame(rf.feature_importances_, columns=['fi'], index=features)\n",
    "    importances['std'] = np.std([tree.feature_importances_ for tree in rf.estimators_], axis=0, ddof=1)\n",
    "    importances.sort_values('fi', ascending=False, inplace=True)\n",
    "    fig, ax = plt.subplots(figsize=(15,10))\n",
    "    importances.plot.bar(yerr='std', ax=ax, error_kw=dict(capsize=5, lw=0.5, capthick=0.5), color='#0099C4', ecolor='navy')\n",
    "    \n",
    "    ax.set_title(\"Feature Importances\")\n",
    "    ax.set_ylabel(\"Mean decrease in impurity\")\n",
    "    ax.get_legend().remove()\n",
    "    fig.tight_layout()\n",
    "    \n",
    "    return importances"
   ]
  },
  {
   "cell_type": "code",
   "execution_count": 19,
   "id": "e44aa764",
   "metadata": {},
   "outputs": [
    {
     "data": {
      "image/png": "[encoded data removed]",
      "text/plain": [
       "<Figure size 1080x720 with 1 Axes>"
      ]
     },
     "metadata": {
      "needs_background": "light"
     },
     "output_type": "display_data"
    }
   ],
   "source": [
    "features = list(df.columns)[8:]\n",
    "allfeatures = plot_fi(rf, df, features)"
   ]
  },
  {
   "cell_type": "code",
   "execution_count": 20,
   "id": "0bd61e49",
   "metadata": {},
   "outputs": [
    {
     "ename": "NameError",
     "evalue": "name 'x' is not defined",
     "output_type": "error",
     "traceback": [
      "\u001b[1;31m---------------------------------------------------------------------------\u001b[0m",
      "\u001b[1;31mNameError\u001b[0m                                 Traceback (most recent call last)",
      "\u001b[1;32m<ipython-input-20-7154fa8556cf>\u001b[0m in \u001b[0;36m<module>\u001b[1;34m\u001b[0m\n\u001b[0;32m      1\u001b[0m \u001b[1;32mfrom\u001b[0m \u001b[0msklearn\u001b[0m\u001b[1;33m.\u001b[0m\u001b[0mfeature_selection\u001b[0m \u001b[1;32mimport\u001b[0m \u001b[0mSelectFromModel\u001b[0m\u001b[1;33m\u001b[0m\u001b[1;33m\u001b[0m\u001b[0m\n\u001b[0;32m      2\u001b[0m \u001b[0msel\u001b[0m \u001b[1;33m=\u001b[0m \u001b[0mSelectFromModel\u001b[0m\u001b[1;33m(\u001b[0m\u001b[0mrf\u001b[0m\u001b[1;33m)\u001b[0m\u001b[1;33m\u001b[0m\u001b[1;33m\u001b[0m\u001b[0m\n\u001b[1;32m----> 3\u001b[1;33m \u001b[0msel\u001b[0m\u001b[1;33m.\u001b[0m\u001b[0mfit\u001b[0m\u001b[1;33m(\u001b[0m\u001b[0mx\u001b[0m\u001b[1;33m,\u001b[0m \u001b[0my\u001b[0m\u001b[1;33m)\u001b[0m\u001b[1;33m\u001b[0m\u001b[1;33m\u001b[0m\u001b[0m\n\u001b[0m\u001b[0;32m      4\u001b[0m \u001b[1;33m\u001b[0m\u001b[0m\n\u001b[0;32m      5\u001b[0m \u001b[0msel_feat\u001b[0m \u001b[1;33m=\u001b[0m \u001b[0mdf\u001b[0m\u001b[1;33m.\u001b[0m\u001b[0mloc\u001b[0m\u001b[1;33m[\u001b[0m\u001b[1;33m:\u001b[0m\u001b[1;33m,\u001b[0m\u001b[0mfeatures\u001b[0m\u001b[1;33m]\u001b[0m\u001b[1;33m.\u001b[0m\u001b[0mcolumns\u001b[0m\u001b[1;33m[\u001b[0m\u001b[1;33m(\u001b[0m\u001b[0msel\u001b[0m\u001b[1;33m.\u001b[0m\u001b[0mget_support\u001b[0m\u001b[1;33m(\u001b[0m\u001b[1;33m)\u001b[0m\u001b[1;33m)\u001b[0m\u001b[1;33m]\u001b[0m\u001b[1;33m\u001b[0m\u001b[1;33m\u001b[0m\u001b[0m\n",
      "\u001b[1;31mNameError\u001b[0m: name 'x' is not defined"
     ]
    }
   ],
   "source": [
    "from sklearn.feature_selection import SelectFromModel\n",
    "sel = SelectFromModel(rf)\n",
    "sel.fit(x, y)\n",
    "\n",
    "sel_feat = df.loc[:,features].columns[(sel.get_support())]\n",
    "print(list(sel_feat))"
   ]
  },
  {
   "cell_type": "code",
   "execution_count": null,
   "id": "684ec9b0",
   "metadata": {},
   "outputs": [],
   "source": [
    "\n",
    "selectedfeatures = plot_fi(rf, df, sel_feat)"
   ]
  }
 ],
 "metadata": {
  "kernelspec": {
   "display_name": "Python 3",
   "language": "python",
   "name": "python3"
  },
  "language_info": {
   "codemirror_mode": {
    "name": "ipython",
    "version": 3
   },
   "file_extension": ".py",
   "mimetype": "text/x-python",
   "name": "python",
   "nbconvert_exporter": "python",
   "pygments_lexer": "ipython3",
   "version": "3.6.13"
  }
 },
 "nbformat": 4,
 "nbformat_minor": 5
}
