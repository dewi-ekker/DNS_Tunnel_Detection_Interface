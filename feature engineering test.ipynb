{
 "cells": [
  {
   "cell_type": "code",
   "execution_count": 1,
   "id": "aacd1086",
   "metadata": {},
   "outputs": [],
   "source": [
    "from pcap_feature_parser import read_pcap\n",
    "import pandas as pd\n",
    "import numpy as np\n",
    "import math\n",
    "import wordninja"
   ]
  },
  {
   "cell_type": "code",
   "execution_count": null,
   "id": "cb78d480",
   "metadata": {},
   "outputs": [],
   "source": [
    "%%time\n",
    "df = pd.DataFrame()\n",
    "\n",
    "file_list = {'benign plain.pcap':0,\n",
    "             'dns2tcp tunneling.pcap':1,\n",
    "             'dnscapy tunneling.pcap':1,\n",
    "             'iodine tunneling.pcap':1,\n",
    "             'dnscat2_dns_tunneling_1hr.pcap':1,\n",
    "             'tuns_c_00000_20180330104021.pcap':1}\n",
    "\n",
    "for file, label in file_list.items():\n",
    "    df_append = read_pcap('data/pcaps/'+file)\n",
    "    df_append['Label'] = [int(label) for i in df_append.index]\n",
    "    df = pd.concat([df, df_append], axis=0)\n",
    "\n",
    "df = df.reset_index()\n",
    "df = df.drop(columns='index')"
   ]
  },
  {
   "cell_type": "code",
   "execution_count": null,
   "id": "18a96fe8",
   "metadata": {},
   "outputs": [],
   "source": [
    "#df.insert(1, 'Label', [int(label) for i in df.index])\n",
    "\n",
    "def splitquery(x):\n",
    "    groups = x.rsplit('.',3)\n",
    "    SD = groups[0].lstrip('b\\'') if len(groups)==4 else ''\n",
    "    TLD = '.'.join(groups[-3:-1]).lstrip('b\\'')\n",
    "    return SD, TLD\n",
    "\n",
    "df[['Subdomain','Top Level Domain']] = [splitquery(query) for query in df['Query Name']]\n",
    "\n",
    "display(df)"
   ]
  },
  {
   "cell_type": "code",
   "execution_count": null,
   "id": "0c7e16cc",
   "metadata": {},
   "outputs": [],
   "source": [
    "cols = ['Label','Source Path','Session','Protocol','Query Name','Subdomain','Top Level Domain','Payload','RR type']\n",
    "df = df.loc[:, cols] # reorder columns\n",
    "display(df)"
   ]
  },
  {
   "cell_type": "code",
   "execution_count": null,
   "id": "5482d399",
   "metadata": {},
   "outputs": [],
   "source": [
    "%%time\n",
    "\n",
    "def shannon(x):\n",
    "    x = str(x)\n",
    "    freqs = (\n",
    "        float(x.count(c))/len(x)\n",
    "        for c in set(x))\n",
    "    return -sum((\n",
    "        prob * math.log(prob, 2)\n",
    "        for prob in freqs))\n",
    "\n",
    "df['Query Name Entropy'] = [shannon(name) for name in df['Query Name']]\n",
    "df['Subdomain Entropy'] = [shannon(name) for name in df['Subdomain']]\n",
    "df['Payload Entropy'] = [shannon(name) for name in df['Payload']]\n"
   ]
  },
  {
   "cell_type": "code",
   "execution_count": null,
   "id": "44e39525",
   "metadata": {},
   "outputs": [],
   "source": [
    "%%time\n",
    "df['longest word Subdomain'] = [len(max(wordninja.split(name), key=len, default='')) for name in df['Subdomain']]"
   ]
  },
  {
   "cell_type": "code",
   "execution_count": null,
   "id": "8ebddd22",
   "metadata": {},
   "outputs": [],
   "source": [
    "%%time\n",
    "df['longest word Payload'] = [len(max(wordninja.split(name), key=len, default='')) for name in df['Payload']]"
   ]
  },
  {
   "cell_type": "code",
   "execution_count": null,
   "id": "358ac800",
   "metadata": {},
   "outputs": [],
   "source": [
    "\n",
    "    def count(x):\n",
    "        x = str(x)\n",
    "        total = len(x)\n",
    "        uppercase, lowercase, numeric, special = 0, 0, 0, 0\n",
    "        for i in range(total):\n",
    "            if x[i].isupper():\n",
    "                uppercase += 1\n",
    "            elif x[i].islower():\n",
    "                lowercase += 1\n",
    "            elif x[i].isdigit():\n",
    "                numeric += 1\n",
    "            else:\n",
    "                special += 1\n",
    "        return [total, uppercase, lowercase, numeric, special]\n",
    "\n",
    "    df[['Character Count', \n",
    "        'Uppercase Count', \n",
    "        'Lowercase Count', \n",
    "        'Numeric Count', \n",
    "        'Special Char Count']] = [count(name) for name in df['Query Name']]\n",
    "    \n",
    "    df[['Subdomain Character Count', \n",
    "        'Subdomain Uppercase Count', \n",
    "        'Subdomain Lowercase Count', \n",
    "        'Subdomain Numeric Count', \n",
    "        'Subdomain Special Char Count']] = [count(name) for name in df['Subdomain']]\n",
    "    \n",
    "    df[['Payload Character Count', \n",
    "        'Payload Uppercase Count', \n",
    "        'Payload Lowercase Count', \n",
    "        'Payload Numeric Count', \n",
    "        'Payload Special Char Count']] = [count(name) for name in df['Payload']]\n",
    "\n",
    "    df['Dashes Count'] = [str(name).count('-') for name in df['Query Name']]\n",
    "    df['Slashes Count'] = [str(name).count('/') for name in df['Query Name']]\n",
    "    df['Periods Count'] = [str(name).count('.') for name in df['Query Name']]\n",
    "    df['Equal Signs Count'] = [str(name).count('=') for name in df['Query Name']]"
   ]
  },
  {
   "cell_type": "code",
   "execution_count": null,
   "id": "6befcc9a",
   "metadata": {},
   "outputs": [],
   "source": [
    "%%time\n",
    "\n",
    "def ratio(x):\n",
    "    x = str(x)\n",
    "    total = len(x)\n",
    "    uppercase, lowercase, numeric, special = 0,0,0,0\n",
    "    if total != 0:\n",
    "        for i in range(total):\n",
    "            if x[i].isupper():\n",
    "                uppercase += 1\n",
    "            elif x[i].islower():\n",
    "                lowercase += 1\n",
    "            elif x[i].isdigit():\n",
    "                numeric += 1\n",
    "            else:\n",
    "                special += 1\n",
    "        return [uppercase/total, lowercase/total, numeric/total, special/total]\n",
    "    else:\n",
    "        return 0,0,0,0\n",
    "\n",
    "#df[['Uppercase Ratio', 'Lowercase Ratio', 'Numeric Ratio', 'Special Char Ratio']] = [ratio(name) for name in df['Query Name']]\n"
   ]
  },
  {
   "cell_type": "code",
   "execution_count": null,
   "id": "330ae1c7",
   "metadata": {},
   "outputs": [],
   "source": [
    "%%time\n",
    "df[['Payload Uppercase Ratio', 'Payload Lowercase Ratio', 'Payload Numeric Ratio', 'Payload Special Char Ratio']] = [ratio(name) for name in df['Payload']]"
   ]
  },
  {
   "cell_type": "code",
   "execution_count": null,
   "id": "7703d4f5",
   "metadata": {},
   "outputs": [],
   "source": [
    "%%time\n",
    "df[['Subdomain Uppercase Ratio', 'Subdomain Lowercase Ratio', 'Subdomain Numeric Ratio', 'Subdomain Special Char Ratio']] = [ratio(name) for name in df['Subdomain']]"
   ]
  },
  {
   "cell_type": "code",
   "execution_count": null,
   "id": "052fc06b",
   "metadata": {},
   "outputs": [],
   "source": [
    "%%time\n",
    "df['Packets in Session'] = df.groupby('Session')['Session'].transform('count')"
   ]
  },
  {
   "cell_type": "code",
   "execution_count": null,
   "id": "39067d7f",
   "metadata": {},
   "outputs": [],
   "source": [
    "%%time\n",
    "\n",
    "df['Avg Query Name Length (Session)'] = df.groupby('Session')['Query Name'].transform(lambda x: np.mean(x.str.len()))\n",
    "df['Avg Subdomain Length (Session)'] = df.groupby('Session')['Subdomain'].transform(lambda x: np.mean(x.str.len()))\n"
   ]
  },
  {
   "cell_type": "code",
   "execution_count": null,
   "id": "414d3222",
   "metadata": {},
   "outputs": [],
   "source": [
    "%%time\n",
    "df['Avg Payload Length (Session)'] = df.groupby('Session')['Payload'].transform(lambda x: np.mean(x.str.len()))"
   ]
  },
  {
   "cell_type": "code",
   "execution_count": null,
   "id": "5dd8cc5f",
   "metadata": {},
   "outputs": [],
   "source": [
    "from pprint import pprint\n",
    "pprint(list(df.columns))"
   ]
  },
  {
   "cell_type": "code",
   "execution_count": null,
   "id": "a6130d97",
   "metadata": {},
   "outputs": [],
   "source": [
    "print(list(df.columns)[8:])"
   ]
  },
  {
   "cell_type": "code",
   "execution_count": null,
   "id": "03b0261d",
   "metadata": {},
   "outputs": [],
   "source": [
    "from sklearn.ensemble import RandomForestClassifier\n",
    "\n",
    "test_grid = {'bootstrap': True,\n",
    "             'n_estimators': 1000,\n",
    "             'max_features': 10,\n",
    "             'max_depth': 10,\n",
    "             'min_samples_leaf': 0.1,\n",
    "             'min_samples_split': 0.2\n",
    "             }\n",
    "\n",
    "rf = RandomForestClassifier()\n",
    "rf.set_params(**test_grid)"
   ]
  },
  {
   "cell_type": "code",
   "execution_count": null,
   "id": "a4198a5c",
   "metadata": {},
   "outputs": [],
   "source": [
    "import matplotlib.pyplot as plt\n",
    "\n",
    "def plot_fi(rf, df, features):\n",
    "    x = np.array(df.loc[:,features].fillna(0))\n",
    "    y = np.array(df['Label'])\n",
    "\n",
    "    rf.fit(x,y)\n",
    "\n",
    "    importances = pd.DataFrame(rf.feature_importances_, columns=['fi'], index=features)\n",
    "    importances['std'] = np.std([tree.feature_importances_ for tree in rf.estimators_], axis=0, ddof=1)\n",
    "    importances.sort_values('fi', ascending=False, inplace=True)\n",
    "    fig, ax = plt.subplots(figsize=(15,10))\n",
    "    importances.plot.bar(yerr='std', ax=ax, error_kw=dict(capsize=5, lw=0.5, capthick=0.5), color='#0099C4', ecolor='navy')\n",
    "    \n",
    "    ax.set_title(\"Feature Importances\")\n",
    "    ax.set_ylabel(\"Mean decrease in impurity\")\n",
    "    ax.get_legend().remove()\n",
    "    fig.tight_layout()\n",
    "    \n",
    "    return importances"
   ]
  },
  {
   "cell_type": "code",
   "execution_count": null,
   "id": "51d2c90c",
   "metadata": {},
   "outputs": [],
   "source": [
    "features = list(df.columns)[8:]\n",
    "allfeatures = plot_fi(rf, df, features)"
   ]
  },
  {
   "cell_type": "code",
   "execution_count": null,
   "id": "0bd61e49",
   "metadata": {},
   "outputs": [],
   "source": [
    "from sklearn.feature_selection import SelectFromModel\n",
    "sel = SelectFromModel(rf)\n",
    "sel.fit(x, y)\n",
    "\n",
    "sel_feat = df.loc[:,features].columns[(sel.get_support())]\n",
    "print(list(sel_feat))"
   ]
  },
  {
   "cell_type": "code",
   "execution_count": null,
   "id": "515bf60c",
   "metadata": {},
   "outputs": [],
   "source": [
    "\n",
    "selectedfeatures = plot_fi(rf, df, sel_feat)"
   ]
  }
 ],
 "metadata": {
  "kernelspec": {
   "display_name": "Python 3",
   "language": "python",
   "name": "python3"
  },
  "language_info": {
   "codemirror_mode": {
    "name": "ipython",
    "version": 3
   },
   "file_extension": ".py",
   "mimetype": "text/x-python",
   "name": "python",
   "nbconvert_exporter": "python",
   "pygments_lexer": "ipython3",
   "version": "3.6.13"
  }
 },
 "nbformat": 4,
 "nbformat_minor": 5
}
