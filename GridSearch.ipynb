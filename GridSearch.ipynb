{
 "cells": [
  {
   "cell_type": "code",
   "execution_count": 5,
   "id": "297f26e8",
   "metadata": {},
   "outputs": [],
   "source": [
    "import pandas as pd\n",
    "import numpy as np\n",
    "from pcap_feature_parser import *\n",
    "from pprint import pprint\n",
    "from sklearn.ensemble import RandomForestClassifier\n",
    "from sklearn.model_selection import GridSearchCV\n",
    "from sklearn.model_selection import StratifiedKFold\n",
    "from sklearn.feature_selection import SelectFromModel\n",
    "import matplotlib.pyplot as plt\n",
    "import seaborn as sb\n",
    "import glob"
   ]
  },
  {
   "cell_type": "code",
   "execution_count": 6,
   "id": "171d1172",
   "metadata": {},
   "outputs": [],
   "source": [
    "# loading the data\n",
    "df = pd.read_csv('DNS_datastore.csv', index_col=0)\n",
    "features = list(df.columns)[8:]\n",
    "\n",
    "x = np.array(df.loc[:,features].fillna(0))\n",
    "y = np.array(df['Label'])\n",
    "\n",
    "sigma = (0.03 * x.mean(axis=0))"
   ]
  },
  {
   "cell_type": "markdown",
   "id": "b8336ae6",
   "metadata": {},
   "source": [
    "#### Grid Search"
   ]
  },
  {
   "cell_type": "code",
   "execution_count": null,
   "id": "c8eef8a9",
   "metadata": {},
   "outputs": [],
   "source": [
    " %%time\n",
    "\n",
    "# Create the parameter grid to be searched:\n",
    "    # *The choices for max depth and number of estimators are based on \n",
    "    # how much can fit in the interface while still providing clear overview.\n",
    "\n",
    "param_grid = {\n",
    "    'bootstrap': [True],\n",
    "    'n_estimators': list(range(4,15)),\n",
    "    'max_features': ['sqrt', 'log2'] + [x/10 for x in range(1,11)],\n",
    "    'max_depth': list(range(2,6)),\n",
    "    'min_samples_leaf': [x/10 for x in range(1,6)], #fraction\n",
    "    'min_samples_split': [x/10 for x in range(1,6)] #fraction  \n",
    "}\n",
    "\n",
    "# Instantiate the grid search model:\n",
    "grid_search = GridSearchCV(estimator=RandomForestClassifier(), \n",
    "                           param_grid=param_grid, \n",
    "                           scoring=['precision','accuracy','f1'], \n",
    "                           refit='precision', \n",
    "                           cv=StratifiedKFold(n_splits=10, shuffle=True), \n",
    "                           n_jobs=-1, verbose=0)\n",
    "\n",
    "# Fit the grid search to the data:\n",
    "grid_search.fit(x, y)\n",
    "print('\\nThe parameters with the lowest FNR are\\n')\n",
    "pprint(grid_search.best_params_)                                   \n",
    "print('')"
   ]
  },
  {
   "cell_type": "raw",
   "id": "dd988c96",
   "metadata": {},
   "source": [
    "#pprint(list(grid_search.cv_results_.keys()))\n",
    "\n",
    "i = grid_search.cv_results_['params'].index(grid_search.best_params_)\n",
    "print(grid_search.cv_results_['mean_test_accuracy'][i])\n",
    "print(grid_search.cv_results_['mean_test_precision'][i])\n",
    "print(grid_search.cv_results_['mean_test_f1'][i])"
   ]
  },
  {
   "cell_type": "code",
   "execution_count": null,
   "id": "0763c8de",
   "metadata": {},
   "outputs": [],
   "source": [
    "rf_best = grid_search.best_estimator_"
   ]
  },
  {
   "cell_type": "code",
   "execution_count": 8,
   "id": "e24b88f0",
   "metadata": {},
   "outputs": [],
   "source": [
    "#from sklearn.metrics import plot_roc_curve\n",
    "#plot_roc_curve(rf_best, x, y)"
   ]
  }
 ],
 "metadata": {
  "kernelspec": {
   "display_name": "Python 3",
   "language": "python",
   "name": "python3"
  },
  "language_info": {
   "codemirror_mode": {
    "name": "ipython",
    "version": 3
   },
   "file_extension": ".py",
   "mimetype": "text/x-python",
   "name": "python",
   "nbconvert_exporter": "python",
   "pygments_lexer": "ipython3",
   "version": "3.9.5"
  }
 },
 "nbformat": 4,
 "nbformat_minor": 5
}
