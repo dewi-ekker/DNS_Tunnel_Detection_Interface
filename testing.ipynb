{
 "cells": [
  {
   "cell_type": "code",
   "execution_count": 17,
   "id": "297f26e8",
   "metadata": {},
   "outputs": [],
   "source": [
    "import pandas as pd\n",
    "import numpy as np\n",
    "from pprint import pprint\n",
    "from sklearn.model_selection import train_test_split\n",
    "from sklearn.metrics import confusion_matrix\n",
    "from sklearn.model_selection import GridSearchCV\n",
    "from sklearn.ensemble import RandomForestClassifier\n",
    "from sklearn.feature_selection import SelectFromModel\n",
    "import matplotlib.pyplot as plt\n",
    "import seaborn as sb"
   ]
  },
  {
   "cell_type": "markdown",
   "id": "79c01ed5",
   "metadata": {},
   "source": [
    "#### hyperparameter tuning of the RF model"
   ]
  },
  {
   "cell_type": "code",
   "execution_count": 2,
   "id": "171d1172",
   "metadata": {},
   "outputs": [],
   "source": [
    "df = pd.read_csv('DNS_datastore.csv', index_col=0)\n",
    "\n",
    "features = list(df.columns)[11:]\n",
    "\n",
    "x = np.array(df.loc[:,features].fillna(0))\n",
    "y = np.array(df['Label'])"
   ]
  },
  {
   "cell_type": "code",
   "execution_count": 3,
   "id": "ce0d613c",
   "metadata": {},
   "outputs": [],
   "source": [
    "mu = 0\n",
    "sigma = (0.03 * x.mean(axis=0))\n",
    "noise = np.random.normal(mu, sigma, size=x.shape)\n",
    "\n",
    "x = x + noise"
   ]
  },
  {
   "cell_type": "code",
   "execution_count": 4,
   "id": "ce56ae3d",
   "metadata": {},
   "outputs": [],
   "source": [
    "x_train, x_test, y_train, y_test = train_test_split(x, y, test_size=0.2)"
   ]
  },
  {
   "cell_type": "code",
   "execution_count": 5,
   "id": "c8c1b62e",
   "metadata": {},
   "outputs": [],
   "source": [
    "def cm(rf, x, y):\n",
    "    y_predict = rf.predict(x)\n",
    "    cm = confusion_matrix(y, y_predict)\n",
    "    names = ['TN','FP','FN','TP']\n",
    "    counts = ['{0:0.0f}'.format(value) for value in cm.flatten()]\n",
    "    percents = ['{0:.2%}'.format(value) for value in cm.flatten()/np.sum(cm)]\n",
    "    labels = [f'{v1}\\n{v2}\\n{v3}' for v1, v2, v3 in zip(names, counts, percents)]\n",
    "    labels = np.asarray(labels).reshape(2,2)\n",
    "    plt.title('Confusion Matrix')\n",
    "    fig = sb.heatmap(cm, annot=labels, fmt='', cmap='Blues', cbar=False).get_figure()\n",
    "\n",
    "    TN, FP, FN, TP =  [int(x) for x in np.asarray(cm).reshape(-1)]\n",
    "    recall = TP/(TP+FN)\n",
    "    precision = TP/(TP+FP)\n",
    "    metrics = pd.DataFrame(columns=['Evaluation Metric (other names)','Equation','Value'])\n",
    "    metrics.loc['Accuracy',:] = ['', 'TN+TP / total', '%.2f%%' %((TN+TP)/(TN+TP+FN+FP)*100)]\n",
    "    metrics.loc['True Positive Rate',:] = ['Sensitivity, Recall', 'TP/(TP+FN)', '%.2f%%' %(recall*100)]\n",
    "    metrics.loc['True Negative Rate',:] = ['Specificity', 'TN/(TN+FN)', '%.2f%%' %(TN/(TN+FN)*100)]\n",
    "    metrics.loc['False Positive Rate',:] = ['Fall-Out', 'FP/(TN+FN)', '%.2f%%' %(FP/(TN+FN)*100)]\n",
    "    metrics.loc['False Negative Rate',:] = ['Miss Rate', 'TN/(FN+TP)', '%.2f%%' %(FN/(FN+TP)*100)]\n",
    "    metrics.loc['Positive Predictive Value',:] = ['Precision', 'TP/(TP+FP)', '%.2f%%' %(precision*100)]\n",
    "    metrics.loc['False Discovery Rate',:] = ['', 'FP/(FP+TP)', '%.2f%%' %(FP/(FP+TP)*100)]\n",
    "    metrics.loc['F-1 Score',:] = ['', '2*(Recall*Precision) /(Recall+Precision)', \\\n",
    "                                  '%.2f%%' %(2*(recall*precision)/(recall+precision)*100)]\n",
    "    display(metrics)\n",
    "    return (TN+TP)/(TN+TP+FN+FP)*100"
   ]
  },
  {
   "cell_type": "code",
   "execution_count": 6,
   "id": "282a2e8e",
   "metadata": {},
   "outputs": [
    {
     "name": "stdout",
     "output_type": "stream",
     "text": [
      "Fitting 3 folds for each of 81796 candidates, totalling 245388 fits\n"
     ]
    },
    {
     "name": "stderr",
     "output_type": "stream",
     "text": [
      "C:\\Users\\OpEx-ProEye\\Anaconda3\\envs\\ml-env\\lib\\site-packages\\sklearn\\model_selection\\_search.py:922: UserWarning: One or more of the test scores are non-finite: [nan nan nan ... nan nan nan]\n",
      "  warnings.warn(\n"
     ]
    },
    {
     "name": "stdout",
     "output_type": "stream",
     "text": [
      "{'bootstrap': True,\n",
      " 'max_depth': 3,\n",
      " 'max_features': 10,\n",
      " 'min_samples_leaf': 0.1,\n",
      " 'min_samples_split': 0.1,\n",
      " 'n_estimators': 12}\n"
     ]
    },
    {
     "ename": "NotFittedError",
     "evalue": "This RandomForestClassifier instance is not fitted yet. Call 'fit' with appropriate arguments before using this estimator.",
     "output_type": "error",
     "traceback": [
      "\u001b[1;31m---------------------------------------------------------------------------\u001b[0m",
      "\u001b[1;31mNotFittedError\u001b[0m                            Traceback (most recent call last)",
      "\u001b[1;32m<timed exec>\u001b[0m in \u001b[0;36m<module>\u001b[1;34m\u001b[0m\n",
      "\u001b[1;32m<ipython-input-5-bb9cdbe21cea>\u001b[0m in \u001b[0;36mcm\u001b[1;34m(rf, x, y)\u001b[0m\n\u001b[0;32m      1\u001b[0m \u001b[1;32mdef\u001b[0m \u001b[0mcm\u001b[0m\u001b[1;33m(\u001b[0m\u001b[0mrf\u001b[0m\u001b[1;33m,\u001b[0m \u001b[0mx\u001b[0m\u001b[1;33m,\u001b[0m \u001b[0my\u001b[0m\u001b[1;33m)\u001b[0m\u001b[1;33m:\u001b[0m\u001b[1;33m\u001b[0m\u001b[1;33m\u001b[0m\u001b[0m\n\u001b[1;32m----> 2\u001b[1;33m     \u001b[0my_predict\u001b[0m \u001b[1;33m=\u001b[0m \u001b[0mrf\u001b[0m\u001b[1;33m.\u001b[0m\u001b[0mpredict\u001b[0m\u001b[1;33m(\u001b[0m\u001b[0mx\u001b[0m\u001b[1;33m)\u001b[0m\u001b[1;33m\u001b[0m\u001b[1;33m\u001b[0m\u001b[0m\n\u001b[0m\u001b[0;32m      3\u001b[0m     \u001b[0mcm\u001b[0m \u001b[1;33m=\u001b[0m \u001b[0mconfusion_matrix\u001b[0m\u001b[1;33m(\u001b[0m\u001b[0my\u001b[0m\u001b[1;33m,\u001b[0m \u001b[0my_predict\u001b[0m\u001b[1;33m)\u001b[0m\u001b[1;33m\u001b[0m\u001b[1;33m\u001b[0m\u001b[0m\n\u001b[0;32m      4\u001b[0m     \u001b[0mnames\u001b[0m \u001b[1;33m=\u001b[0m \u001b[1;33m[\u001b[0m\u001b[1;34m'TN'\u001b[0m\u001b[1;33m,\u001b[0m\u001b[1;34m'FP'\u001b[0m\u001b[1;33m,\u001b[0m\u001b[1;34m'FN'\u001b[0m\u001b[1;33m,\u001b[0m\u001b[1;34m'TP'\u001b[0m\u001b[1;33m]\u001b[0m\u001b[1;33m\u001b[0m\u001b[1;33m\u001b[0m\u001b[0m\n\u001b[0;32m      5\u001b[0m     \u001b[0mcounts\u001b[0m \u001b[1;33m=\u001b[0m \u001b[1;33m[\u001b[0m\u001b[1;34m'{0:0.0f}'\u001b[0m\u001b[1;33m.\u001b[0m\u001b[0mformat\u001b[0m\u001b[1;33m(\u001b[0m\u001b[0mvalue\u001b[0m\u001b[1;33m)\u001b[0m \u001b[1;32mfor\u001b[0m \u001b[0mvalue\u001b[0m \u001b[1;32min\u001b[0m \u001b[0mcm\u001b[0m\u001b[1;33m.\u001b[0m\u001b[0mflatten\u001b[0m\u001b[1;33m(\u001b[0m\u001b[1;33m)\u001b[0m\u001b[1;33m]\u001b[0m\u001b[1;33m\u001b[0m\u001b[1;33m\u001b[0m\u001b[0m\n",
      "\u001b[1;32m~\\Anaconda3\\envs\\ml-env\\lib\\site-packages\\sklearn\\ensemble\\_forest.py\u001b[0m in \u001b[0;36mpredict\u001b[1;34m(self, X)\u001b[0m\n\u001b[0;32m    628\u001b[0m             \u001b[0mThe\u001b[0m \u001b[0mpredicted\u001b[0m \u001b[0mclasses\u001b[0m\u001b[1;33m.\u001b[0m\u001b[1;33m\u001b[0m\u001b[1;33m\u001b[0m\u001b[0m\n\u001b[0;32m    629\u001b[0m         \"\"\"\n\u001b[1;32m--> 630\u001b[1;33m         \u001b[0mproba\u001b[0m \u001b[1;33m=\u001b[0m \u001b[0mself\u001b[0m\u001b[1;33m.\u001b[0m\u001b[0mpredict_proba\u001b[0m\u001b[1;33m(\u001b[0m\u001b[0mX\u001b[0m\u001b[1;33m)\u001b[0m\u001b[1;33m\u001b[0m\u001b[1;33m\u001b[0m\u001b[0m\n\u001b[0m\u001b[0;32m    631\u001b[0m \u001b[1;33m\u001b[0m\u001b[0m\n\u001b[0;32m    632\u001b[0m         \u001b[1;32mif\u001b[0m \u001b[0mself\u001b[0m\u001b[1;33m.\u001b[0m\u001b[0mn_outputs_\u001b[0m \u001b[1;33m==\u001b[0m \u001b[1;36m1\u001b[0m\u001b[1;33m:\u001b[0m\u001b[1;33m\u001b[0m\u001b[1;33m\u001b[0m\u001b[0m\n",
      "\u001b[1;32m~\\Anaconda3\\envs\\ml-env\\lib\\site-packages\\sklearn\\ensemble\\_forest.py\u001b[0m in \u001b[0;36mpredict_proba\u001b[1;34m(self, X)\u001b[0m\n\u001b[0;32m    670\u001b[0m             \u001b[0mclasses\u001b[0m \u001b[0mcorresponds\u001b[0m \u001b[0mto\u001b[0m \u001b[0mthat\u001b[0m \u001b[1;32min\u001b[0m \u001b[0mthe\u001b[0m \u001b[0mattribute\u001b[0m \u001b[1;33m:\u001b[0m\u001b[0mterm\u001b[0m\u001b[1;33m:\u001b[0m\u001b[0;31m`\u001b[0m\u001b[0mclasses_\u001b[0m\u001b[0;31m`\u001b[0m\u001b[1;33m.\u001b[0m\u001b[1;33m\u001b[0m\u001b[1;33m\u001b[0m\u001b[0m\n\u001b[0;32m    671\u001b[0m         \"\"\"\n\u001b[1;32m--> 672\u001b[1;33m         \u001b[0mcheck_is_fitted\u001b[0m\u001b[1;33m(\u001b[0m\u001b[0mself\u001b[0m\u001b[1;33m)\u001b[0m\u001b[1;33m\u001b[0m\u001b[1;33m\u001b[0m\u001b[0m\n\u001b[0m\u001b[0;32m    673\u001b[0m         \u001b[1;31m# Check data\u001b[0m\u001b[1;33m\u001b[0m\u001b[1;33m\u001b[0m\u001b[1;33m\u001b[0m\u001b[0m\n\u001b[0;32m    674\u001b[0m         \u001b[0mX\u001b[0m \u001b[1;33m=\u001b[0m \u001b[0mself\u001b[0m\u001b[1;33m.\u001b[0m\u001b[0m_validate_X_predict\u001b[0m\u001b[1;33m(\u001b[0m\u001b[0mX\u001b[0m\u001b[1;33m)\u001b[0m\u001b[1;33m\u001b[0m\u001b[1;33m\u001b[0m\u001b[0m\n",
      "\u001b[1;32m~\\Anaconda3\\envs\\ml-env\\lib\\site-packages\\sklearn\\utils\\validation.py\u001b[0m in \u001b[0;36minner_f\u001b[1;34m(*args, **kwargs)\u001b[0m\n\u001b[0;32m     61\u001b[0m             \u001b[0mextra_args\u001b[0m \u001b[1;33m=\u001b[0m \u001b[0mlen\u001b[0m\u001b[1;33m(\u001b[0m\u001b[0margs\u001b[0m\u001b[1;33m)\u001b[0m \u001b[1;33m-\u001b[0m \u001b[0mlen\u001b[0m\u001b[1;33m(\u001b[0m\u001b[0mall_args\u001b[0m\u001b[1;33m)\u001b[0m\u001b[1;33m\u001b[0m\u001b[1;33m\u001b[0m\u001b[0m\n\u001b[0;32m     62\u001b[0m             \u001b[1;32mif\u001b[0m \u001b[0mextra_args\u001b[0m \u001b[1;33m<=\u001b[0m \u001b[1;36m0\u001b[0m\u001b[1;33m:\u001b[0m\u001b[1;33m\u001b[0m\u001b[1;33m\u001b[0m\u001b[0m\n\u001b[1;32m---> 63\u001b[1;33m                 \u001b[1;32mreturn\u001b[0m \u001b[0mf\u001b[0m\u001b[1;33m(\u001b[0m\u001b[1;33m*\u001b[0m\u001b[0margs\u001b[0m\u001b[1;33m,\u001b[0m \u001b[1;33m**\u001b[0m\u001b[0mkwargs\u001b[0m\u001b[1;33m)\u001b[0m\u001b[1;33m\u001b[0m\u001b[1;33m\u001b[0m\u001b[0m\n\u001b[0m\u001b[0;32m     64\u001b[0m \u001b[1;33m\u001b[0m\u001b[0m\n\u001b[0;32m     65\u001b[0m             \u001b[1;31m# extra_args > 0\u001b[0m\u001b[1;33m\u001b[0m\u001b[1;33m\u001b[0m\u001b[1;33m\u001b[0m\u001b[0m\n",
      "\u001b[1;32m~\\Anaconda3\\envs\\ml-env\\lib\\site-packages\\sklearn\\utils\\validation.py\u001b[0m in \u001b[0;36mcheck_is_fitted\u001b[1;34m(estimator, attributes, msg, all_or_any)\u001b[0m\n\u001b[0;32m   1096\u001b[0m \u001b[1;33m\u001b[0m\u001b[0m\n\u001b[0;32m   1097\u001b[0m     \u001b[1;32mif\u001b[0m \u001b[1;32mnot\u001b[0m \u001b[0mattrs\u001b[0m\u001b[1;33m:\u001b[0m\u001b[1;33m\u001b[0m\u001b[1;33m\u001b[0m\u001b[0m\n\u001b[1;32m-> 1098\u001b[1;33m         \u001b[1;32mraise\u001b[0m \u001b[0mNotFittedError\u001b[0m\u001b[1;33m(\u001b[0m\u001b[0mmsg\u001b[0m \u001b[1;33m%\u001b[0m \u001b[1;33m{\u001b[0m\u001b[1;34m'name'\u001b[0m\u001b[1;33m:\u001b[0m \u001b[0mtype\u001b[0m\u001b[1;33m(\u001b[0m\u001b[0mestimator\u001b[0m\u001b[1;33m)\u001b[0m\u001b[1;33m.\u001b[0m\u001b[0m__name__\u001b[0m\u001b[1;33m}\u001b[0m\u001b[1;33m)\u001b[0m\u001b[1;33m\u001b[0m\u001b[1;33m\u001b[0m\u001b[0m\n\u001b[0m\u001b[0;32m   1099\u001b[0m \u001b[1;33m\u001b[0m\u001b[0m\n\u001b[0;32m   1100\u001b[0m \u001b[1;33m\u001b[0m\u001b[0m\n",
      "\u001b[1;31mNotFittedError\u001b[0m: This RandomForestClassifier instance is not fitted yet. Call 'fit' with appropriate arguments before using this estimator."
     ]
    }
   ],
   "source": [
    "%%time\n",
    "# Create the parameter grid based on the results of random search \n",
    "param_grid = {\n",
    "    'bootstrap': [True],\n",
    "    'max_features': ['sqrt', 'log2'] + list(np.linspace(0,1,11)),\n",
    "    'max_depth': list(range(2,6)),\n",
    "    'max_features': list(range(2,15)),\n",
    "    'min_samples_leaf': list(np.linspace(0,1,11)),\n",
    "    'min_samples_split': list(np.linspace(0,1,11)),\n",
    "    'n_estimators': list(range(2,15))\n",
    "}\n",
    "# Create a based model\n",
    "rf = RandomForestClassifier()\n",
    "# Instantiate the grid search model\n",
    "grid_search = GridSearchCV(estimator = rf, param_grid = param_grid, cv = 3, n_jobs = -1, verbose = 2)\n",
    "\n",
    "# Fit the grid search to the data\n",
    "grid_search.fit(x_train, y_train)"
   ]
  },
  {
   "cell_type": "code",
   "execution_count": 15,
   "id": "b8975870",
   "metadata": {},
   "outputs": [
    {
     "data": {
      "text/plain": [
       "[0.1,\n",
       " 0.2,\n",
       " 0.30000000000000004,\n",
       " 0.4,\n",
       " 0.5,\n",
       " 0.6000000000000001,\n",
       " 0.7000000000000001,\n",
       " 0.8,\n",
       " 0.9,\n",
       " 1.0]"
      ]
     },
     "execution_count": 15,
     "metadata": {},
     "output_type": "execute_result"
    }
   ],
   "source": [
    "[0.1*x for x in range(1,11)]"
   ]
  },
  {
   "cell_type": "code",
   "execution_count": 12,
   "id": "7bd40ff0",
   "metadata": {},
   "outputs": [
    {
     "data": {
      "text/html": [
       "<div>\n",
       "<style scoped>\n",
       "    .dataframe tbody tr th:only-of-type {\n",
       "        vertical-align: middle;\n",
       "    }\n",
       "\n",
       "    .dataframe tbody tr th {\n",
       "        vertical-align: top;\n",
       "    }\n",
       "\n",
       "    .dataframe thead th {\n",
       "        text-align: right;\n",
       "    }\n",
       "</style>\n",
       "<table border=\"1\" class=\"dataframe\">\n",
       "  <thead>\n",
       "    <tr style=\"text-align: right;\">\n",
       "      <th></th>\n",
       "      <th>Evaluation Metric (other names)</th>\n",
       "      <th>Equation</th>\n",
       "      <th>Value</th>\n",
       "    </tr>\n",
       "  </thead>\n",
       "  <tbody>\n",
       "    <tr>\n",
       "      <th>Accuracy</th>\n",
       "      <td></td>\n",
       "      <td>TN+TP / total</td>\n",
       "      <td>99.97%</td>\n",
       "    </tr>\n",
       "    <tr>\n",
       "      <th>True Positive Rate</th>\n",
       "      <td>Sensitivity, Recall</td>\n",
       "      <td>TP/(TP+FN)</td>\n",
       "      <td>99.97%</td>\n",
       "    </tr>\n",
       "    <tr>\n",
       "      <th>True Negative Rate</th>\n",
       "      <td>Specificity</td>\n",
       "      <td>TN/(TN+FN)</td>\n",
       "      <td>99.86%</td>\n",
       "    </tr>\n",
       "    <tr>\n",
       "      <th>False Positive Rate</th>\n",
       "      <td>Fall-Out</td>\n",
       "      <td>FP/(TN+FN)</td>\n",
       "      <td>0.00%</td>\n",
       "    </tr>\n",
       "    <tr>\n",
       "      <th>False Negative Rate</th>\n",
       "      <td>Miss Rate</td>\n",
       "      <td>TN/(FN+TP)</td>\n",
       "      <td>0.03%</td>\n",
       "    </tr>\n",
       "    <tr>\n",
       "      <th>Positive Predictive Value</th>\n",
       "      <td>Precision</td>\n",
       "      <td>TP/(TP+FP)</td>\n",
       "      <td>100.00%</td>\n",
       "    </tr>\n",
       "    <tr>\n",
       "      <th>False Discovery Rate</th>\n",
       "      <td></td>\n",
       "      <td>FP/(FP+TP)</td>\n",
       "      <td>0.00%</td>\n",
       "    </tr>\n",
       "    <tr>\n",
       "      <th>F-1 Score</th>\n",
       "      <td></td>\n",
       "      <td>2*(Recall*Precision) /(Recall+Precision)</td>\n",
       "      <td>99.98%</td>\n",
       "    </tr>\n",
       "  </tbody>\n",
       "</table>\n",
       "</div>"
      ],
      "text/plain": [
       "                          Evaluation Metric (other names)  \\\n",
       "Accuracy                                                    \n",
       "True Positive Rate                    Sensitivity, Recall   \n",
       "True Negative Rate                            Specificity   \n",
       "False Positive Rate                              Fall-Out   \n",
       "False Negative Rate                             Miss Rate   \n",
       "Positive Predictive Value                       Precision   \n",
       "False Discovery Rate                                        \n",
       "F-1 Score                                                   \n",
       "\n",
       "                                                           Equation    Value  \n",
       "Accuracy                                              TN+TP / total   99.97%  \n",
       "True Positive Rate                                       TP/(TP+FN)   99.97%  \n",
       "True Negative Rate                                       TN/(TN+FN)   99.86%  \n",
       "False Positive Rate                                      FP/(TN+FN)    0.00%  \n",
       "False Negative Rate                                      TN/(FN+TP)    0.03%  \n",
       "Positive Predictive Value                                TP/(TP+FP)  100.00%  \n",
       "False Discovery Rate                                     FP/(FP+TP)    0.00%  \n",
       "F-1 Score                  2*(Recall*Precision) /(Recall+Precision)   99.98%  "
      ]
     },
     "metadata": {},
     "output_type": "display_data"
    },
    {
     "data": {
      "image/png": "[encoded data removed]",
      "text/plain": [
       "<Figure size 432x288 with 1 Axes>"
      ]
     },
     "metadata": {
      "needs_background": "light"
     },
     "output_type": "display_data"
    }
   ],
   "source": [
    "base_rf = RandomForestClassifier()\n",
    "base_rf.fit(x_train, y_train)\n",
    "base_accuracy = cm(base_rf, x_test, y_test)"
   ]
  },
  {
   "cell_type": "code",
   "execution_count": 10,
   "id": "db2bbd8b",
   "metadata": {},
   "outputs": [
    {
     "name": "stdout",
     "output_type": "stream",
     "text": [
      "{'bootstrap': True,\n",
      " 'max_depth': 3,\n",
      " 'max_features': 10,\n",
      " 'min_samples_leaf': 0.1,\n",
      " 'min_samples_split': 0.1,\n",
      " 'n_estimators': 12}\n"
     ]
    },
    {
     "data": {
      "text/html": [
       "<div>\n",
       "<style scoped>\n",
       "    .dataframe tbody tr th:only-of-type {\n",
       "        vertical-align: middle;\n",
       "    }\n",
       "\n",
       "    .dataframe tbody tr th {\n",
       "        vertical-align: top;\n",
       "    }\n",
       "\n",
       "    .dataframe thead th {\n",
       "        text-align: right;\n",
       "    }\n",
       "</style>\n",
       "<table border=\"1\" class=\"dataframe\">\n",
       "  <thead>\n",
       "    <tr style=\"text-align: right;\">\n",
       "      <th></th>\n",
       "      <th>Evaluation Metric (other names)</th>\n",
       "      <th>Equation</th>\n",
       "      <th>Value</th>\n",
       "    </tr>\n",
       "  </thead>\n",
       "  <tbody>\n",
       "    <tr>\n",
       "      <th>Accuracy</th>\n",
       "      <td></td>\n",
       "      <td>TN+TP / total</td>\n",
       "      <td>99.96%</td>\n",
       "    </tr>\n",
       "    <tr>\n",
       "      <th>True Positive Rate</th>\n",
       "      <td>Sensitivity, Recall</td>\n",
       "      <td>TP/(TP+FN)</td>\n",
       "      <td>100.00%</td>\n",
       "    </tr>\n",
       "    <tr>\n",
       "      <th>True Negative Rate</th>\n",
       "      <td>Specificity</td>\n",
       "      <td>TN/(TN+FN)</td>\n",
       "      <td>100.00%</td>\n",
       "    </tr>\n",
       "    <tr>\n",
       "      <th>False Positive Rate</th>\n",
       "      <td>Fall-Out</td>\n",
       "      <td>FP/(TN+FN)</td>\n",
       "      <td>0.21%</td>\n",
       "    </tr>\n",
       "    <tr>\n",
       "      <th>False Negative Rate</th>\n",
       "      <td>Miss Rate</td>\n",
       "      <td>TN/(FN+TP)</td>\n",
       "      <td>0.00%</td>\n",
       "    </tr>\n",
       "    <tr>\n",
       "      <th>Positive Predictive Value</th>\n",
       "      <td>Precision</td>\n",
       "      <td>TP/(TP+FP)</td>\n",
       "      <td>99.95%</td>\n",
       "    </tr>\n",
       "    <tr>\n",
       "      <th>False Discovery Rate</th>\n",
       "      <td></td>\n",
       "      <td>FP/(FP+TP)</td>\n",
       "      <td>0.05%</td>\n",
       "    </tr>\n",
       "    <tr>\n",
       "      <th>F-1 Score</th>\n",
       "      <td></td>\n",
       "      <td>2*(Recall*Precision) /(Recall+Precision)</td>\n",
       "      <td>99.98%</td>\n",
       "    </tr>\n",
       "  </tbody>\n",
       "</table>\n",
       "</div>"
      ],
      "text/plain": [
       "                          Evaluation Metric (other names)  \\\n",
       "Accuracy                                                    \n",
       "True Positive Rate                    Sensitivity, Recall   \n",
       "True Negative Rate                            Specificity   \n",
       "False Positive Rate                              Fall-Out   \n",
       "False Negative Rate                             Miss Rate   \n",
       "Positive Predictive Value                       Precision   \n",
       "False Discovery Rate                                        \n",
       "F-1 Score                                                   \n",
       "\n",
       "                                                           Equation    Value  \n",
       "Accuracy                                              TN+TP / total   99.96%  \n",
       "True Positive Rate                                       TP/(TP+FN)  100.00%  \n",
       "True Negative Rate                                       TN/(TN+FN)  100.00%  \n",
       "False Positive Rate                                      FP/(TN+FN)    0.21%  \n",
       "False Negative Rate                                      TN/(FN+TP)    0.00%  \n",
       "Positive Predictive Value                                TP/(TP+FP)   99.95%  \n",
       "False Discovery Rate                                     FP/(FP+TP)    0.05%  \n",
       "F-1 Score                  2*(Recall*Precision) /(Recall+Precision)   99.98%  "
      ]
     },
     "metadata": {},
     "output_type": "display_data"
    },
    {
     "data": {
      "image/png": "[encoded data removed]",
      "text/plain": [
       "<Figure size 432x288 with 1 Axes>"
      ]
     },
     "metadata": {
      "needs_background": "light"
     },
     "output_type": "display_data"
    }
   ],
   "source": [
    "pprint(grid_search.best_params_)\n",
    "\n",
    "best_grid = grid_search.best_estimator_\n",
    "grid_accuracy = cm(best_grid, x_test, y_test)"
   ]
  },
  {
   "cell_type": "markdown",
   "id": "f82280ae",
   "metadata": {},
   "source": [
    "#### feature selection"
   ]
  },
  {
   "cell_type": "code",
   "execution_count": 18,
   "id": "6355c2f5",
   "metadata": {},
   "outputs": [
    {
     "data": {
      "text/plain": [
       "SelectFromModel(estimator=RandomForestClassifier(max_depth=3, max_features=10,\n",
       "                                                 min_samples_leaf=0.1,\n",
       "                                                 min_samples_split=0.1,\n",
       "                                                 n_estimators=12))"
      ]
     },
     "execution_count": 18,
     "metadata": {},
     "output_type": "execute_result"
    }
   ],
   "source": [
    "sel = SelectFromModel(best_grid)\n",
    "sel.fit(x_train, y_train)"
   ]
  },
  {
   "cell_type": "code",
   "execution_count": 34,
   "id": "cf30ab09",
   "metadata": {},
   "outputs": [
    {
     "name": "stdout",
     "output_type": "stream",
     "text": [
      "Index(['Subdomain Entropy', 'Numeric Count', 'Payload Lowercase Count',\n",
      "       'Payload Special Char Count', 'Avg Subdomain Length (Session)'],\n",
      "      dtype='object')\n"
     ]
    }
   ],
   "source": [
    "selected_feat= df.loc[:,features].columns[(sel.get_support())]\n",
    "print(selected_feat)"
   ]
  },
  {
   "cell_type": "code",
   "execution_count": 38,
   "id": "ff7f3f1a",
   "metadata": {},
   "outputs": [
    {
     "data": {
      "text/plain": [
       "<AxesSubplot:>"
      ]
     },
     "execution_count": 38,
     "metadata": {},
     "output_type": "execute_result"
    },
    {
     "data": {
      "image/png": "[encoded data removed]",
      "text/plain": [
       "<Figure size 432x288 with 1 Axes>"
      ]
     },
     "metadata": {
      "needs_background": "light"
     },
     "output_type": "display_data"
    }
   ],
   "source": [
    "pd.Series(sel.estimator_.feature_importances_.ravel()).hist()"
   ]
  },
  {
   "cell_type": "markdown",
   "id": "7cbb81fa",
   "metadata": {},
   "source": [
    "#### compare to DT/SVM/KNN"
   ]
  },
  {
   "cell_type": "code",
   "execution_count": null,
   "id": "990a2f79",
   "metadata": {},
   "outputs": [],
   "source": []
  }
 ],
 "metadata": {
  "kernelspec": {
   "display_name": "Python 3",
   "language": "python",
   "name": "python3"
  },
  "language_info": {
   "codemirror_mode": {
    "name": "ipython",
    "version": 3
   },
   "file_extension": ".py",
   "mimetype": "text/x-python",
   "name": "python",
   "nbconvert_exporter": "python",
   "pygments_lexer": "ipython3",
   "version": "3.9.5"
  }
 },
 "nbformat": 4,
 "nbformat_minor": 5
}
