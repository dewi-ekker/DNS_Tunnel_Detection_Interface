{
 "cells": [
  {
   "cell_type": "code",
   "execution_count": 1,
   "id": "297f26e8",
   "metadata": {},
   "outputs": [],
   "source": [
    "import pandas as pd\n",
    "import numpy as np\n",
    "from pprint import pprint\n",
    "from sklearn.model_selection import train_test_split\n",
    "from sklearn.metrics import confusion_matrix\n",
    "from sklearn.model_selection import GridSearchCV\n",
    "from sklearn.ensemble import RandomForestClassifier\n",
    "from sklearn.feature_selection import SelectFromModel\n",
    "import matplotlib.pyplot as plt\n",
    "import seaborn as sb"
   ]
  },
  {
   "cell_type": "markdown",
   "id": "79c01ed5",
   "metadata": {},
   "source": [
    "#### hyperparameter tuning of the RF model"
   ]
  },
  {
   "cell_type": "code",
   "execution_count": 2,
   "id": "171d1172",
   "metadata": {},
   "outputs": [],
   "source": [
    "df = pd.read_csv('DNS_datastore.csv', index_col=0)\n",
    "\n",
    "features = list(df.columns)[11:]\n",
    "\n",
    "x = np.array(df.loc[:,features].fillna(0))\n",
    "y = np.array(df['Label'])"
   ]
  },
  {
   "cell_type": "code",
   "execution_count": 3,
   "id": "ce0d613c",
   "metadata": {},
   "outputs": [],
   "source": [
    "mu = 0\n",
    "sigma = (0.03 * x.mean(axis=0))\n",
    "noise = np.random.normal(mu, sigma, size=x.shape)\n",
    "\n",
    "x = x + noise"
   ]
  },
  {
   "cell_type": "code",
   "execution_count": 4,
   "id": "ce56ae3d",
   "metadata": {},
   "outputs": [],
   "source": [
    "x_train, x_test, y_train, y_test = train_test_split(x, y, test_size=0.2)"
   ]
  },
  {
   "cell_type": "code",
   "execution_count": 5,
   "id": "c8c1b62e",
   "metadata": {},
   "outputs": [],
   "source": [
    "def cm(rf, x, y):\n",
    "    y_predict = rf.predict(x)\n",
    "    cm = confusion_matrix(y, y_predict)\n",
    "    names = ['TN','FP','FN','TP']\n",
    "    #counts = ['{0:0.0f}'.format(value) for value in cm.flatten()]\n",
    "    percents = ['{0:.2%}'.format(value) for value in cm.flatten()/np.sum(cm)]\n",
    "    labels = [f'{v1}\\n{v3}' for v1, v3 in zip(names, percents)]\n",
    "    labels = np.asarray(labels).reshape(2,2)\n",
    "    plt.title('Confusion Matrix')\n",
    "    fig = sb.heatmap(cm, annot=labels, fmt='', cmap='Blues', cbar=False).get_figure()\n",
    "\n",
    "    TN, FP, FN, TP =  [int(x) for x in np.asarray(cm).reshape(-1)]\n",
    "    recall = TP/(TP+FN)\n",
    "    precision = TP/(TP+FP)\n",
    "    metrics = pd.DataFrame(columns=['Evaluation Metric (other names)','Equation','Value'])\n",
    "    metrics.loc['Accuracy',:] = ['', 'TN+TP / total', '%.2f%%' %((TN+TP)/(TN+TP+FN+FP)*100)]\n",
    "    metrics.loc['True Positive Rate',:] = ['Sensitivity, Recall', 'TP/(TP+FN)', '%.2f%%' %(recall*100)]\n",
    "    metrics.loc['True Negative Rate',:] = ['Specificity', 'TN/(TN+FN)', '%.2f%%' %(TN/(TN+FN)*100)]\n",
    "    metrics.loc['False Positive Rate',:] = ['Fall-Out', 'FP/(TN+FN)', '%.2f%%' %(FP/(TN+FN)*100)]\n",
    "    metrics.loc['False Negative Rate',:] = ['Miss Rate', 'TN/(FN+TP)', '%.2f%%' %(FN/(FN+TP)*100)]\n",
    "    metrics.loc['Positive Predictive Value',:] = ['Precision', 'TP/(TP+FP)', '%.2f%%' %(precision*100)]\n",
    "    metrics.loc['False Discovery Rate',:] = ['', 'FP/(FP+TP)', '%.2f%%' %(FP/(FP+TP)*100)]\n",
    "    metrics.loc['F-1 Score',:] = ['', '2*(Recall*Precision) /(Recall+Precision)', \\\n",
    "                                  '%.2f%%' %(2*(recall*precision)/(recall+precision)*100)]\n",
    "    display(metrics)\n",
    "    return (TN+TP)/(TN+TP+FN+FP)*100"
   ]
  },
  {
   "cell_type": "code",
   "execution_count": 6,
   "id": "282a2e8e",
   "metadata": {},
   "outputs": [
    {
     "name": "stdout",
     "output_type": "stream",
     "text": [
      "Fitting 3 folds for each of 81796 candidates, totalling 245388 fits\n"
     ]
    },
    {
     "name": "stderr",
     "output_type": "stream",
     "text": [
      "C:\\Users\\dewie\\anaconda3\\envs\\ml-env\\lib\\site-packages\\sklearn\\model_selection\\_search.py:925: UserWarning: One or more of the test scores are non-finite: [nan nan nan ... nan nan nan]\n",
      "  category=UserWarning\n"
     ]
    },
    {
     "name": "stdout",
     "output_type": "stream",
     "text": [
      "Wall time: 1h 12min 12s\n"
     ]
    },
    {
     "data": {
      "text/plain": [
       "GridSearchCV(cv=3, estimator=RandomForestClassifier(), n_jobs=-1,\n",
       "             param_grid={'bootstrap': [True], 'max_depth': [2, 3, 4, 5],\n",
       "                         'max_features': [2, 3, 4, 5, 6, 7, 8, 9, 10, 11, 12,\n",
       "                                          13, 14],\n",
       "                         'min_samples_leaf': [0.0, 0.1, 0.2,\n",
       "                                              0.30000000000000004, 0.4, 0.5,\n",
       "                                              0.6000000000000001,\n",
       "                                              0.7000000000000001, 0.8, 0.9,\n",
       "                                              1.0],\n",
       "                         'min_samples_split': [0.0, 0.1, 0.2,\n",
       "                                               0.30000000000000004, 0.4, 0.5,\n",
       "                                               0.6000000000000001,\n",
       "                                               0.7000000000000001, 0.8, 0.9,\n",
       "                                               1.0],\n",
       "                         'n_estimators': [2, 3, 4, 5, 6, 7, 8, 9, 10, 11, 12,\n",
       "                                          13, 14]},\n",
       "             verbose=2)"
      ]
     },
     "execution_count": 6,
     "metadata": {},
     "output_type": "execute_result"
    }
   ],
   "source": [
    "%%time\n",
    "# Create the parameter grid based on the results of random search \n",
    "param_grid = {\n",
    "    'bootstrap': [True],\n",
    "    'max_features': ['sqrt', 'log2'] + list(np.linspace(0,1,11)),\n",
    "    'max_depth': list(range(2,6)),\n",
    "    'max_features': list(range(2,15)),\n",
    "    'min_samples_leaf': list(np.linspace(0,1,11)),\n",
    "    'min_samples_split': list(np.linspace(0,1,11)),\n",
    "    'n_estimators': list(range(2,15))\n",
    "}\n",
    "# Create a based model\n",
    "rf = RandomForestClassifier()\n",
    "# Instantiate the grid search model\n",
    "grid_search = GridSearchCV(estimator = rf, param_grid = param_grid, cv = 3, n_jobs = -1, verbose = 2)\n",
    "\n",
    "# Fit the grid search to the data\n",
    "grid_search.fit(x_train, y_train)"
   ]
  },
  {
   "cell_type": "code",
   "execution_count": 16,
   "id": "7bd40ff0",
   "metadata": {},
   "outputs": [
    {
     "name": "stdout",
     "output_type": "stream",
     "text": [
      "<bound method BaseEstimator.get_params of RandomForestClassifier()>\n"
     ]
    },
    {
     "data": {
      "text/html": [
       "<div>\n",
       "<style scoped>\n",
       "    .dataframe tbody tr th:only-of-type {\n",
       "        vertical-align: middle;\n",
       "    }\n",
       "\n",
       "    .dataframe tbody tr th {\n",
       "        vertical-align: top;\n",
       "    }\n",
       "\n",
       "    .dataframe thead th {\n",
       "        text-align: right;\n",
       "    }\n",
       "</style>\n",
       "<table border=\"1\" class=\"dataframe\">\n",
       "  <thead>\n",
       "    <tr style=\"text-align: right;\">\n",
       "      <th></th>\n",
       "      <th>Evaluation Metric (other names)</th>\n",
       "      <th>Equation</th>\n",
       "      <th>Value</th>\n",
       "    </tr>\n",
       "  </thead>\n",
       "  <tbody>\n",
       "    <tr>\n",
       "      <th>Accuracy</th>\n",
       "      <td></td>\n",
       "      <td>TN+TP / total</td>\n",
       "      <td>100.00%</td>\n",
       "    </tr>\n",
       "    <tr>\n",
       "      <th>True Positive Rate</th>\n",
       "      <td>Sensitivity, Recall</td>\n",
       "      <td>TP/(TP+FN)</td>\n",
       "      <td>100.00%</td>\n",
       "    </tr>\n",
       "    <tr>\n",
       "      <th>True Negative Rate</th>\n",
       "      <td>Specificity</td>\n",
       "      <td>TN/(TN+FN)</td>\n",
       "      <td>100.00%</td>\n",
       "    </tr>\n",
       "    <tr>\n",
       "      <th>False Positive Rate</th>\n",
       "      <td>Fall-Out</td>\n",
       "      <td>FP/(TN+FN)</td>\n",
       "      <td>0.00%</td>\n",
       "    </tr>\n",
       "    <tr>\n",
       "      <th>False Negative Rate</th>\n",
       "      <td>Miss Rate</td>\n",
       "      <td>TN/(FN+TP)</td>\n",
       "      <td>0.00%</td>\n",
       "    </tr>\n",
       "    <tr>\n",
       "      <th>Positive Predictive Value</th>\n",
       "      <td>Precision</td>\n",
       "      <td>TP/(TP+FP)</td>\n",
       "      <td>100.00%</td>\n",
       "    </tr>\n",
       "    <tr>\n",
       "      <th>False Discovery Rate</th>\n",
       "      <td></td>\n",
       "      <td>FP/(FP+TP)</td>\n",
       "      <td>0.00%</td>\n",
       "    </tr>\n",
       "    <tr>\n",
       "      <th>F-1 Score</th>\n",
       "      <td></td>\n",
       "      <td>2*(Recall*Precision) /(Recall+Precision)</td>\n",
       "      <td>100.00%</td>\n",
       "    </tr>\n",
       "  </tbody>\n",
       "</table>\n",
       "</div>"
      ],
      "text/plain": [
       "                          Evaluation Metric (other names)  \\\n",
       "Accuracy                                                    \n",
       "True Positive Rate                    Sensitivity, Recall   \n",
       "True Negative Rate                            Specificity   \n",
       "False Positive Rate                              Fall-Out   \n",
       "False Negative Rate                             Miss Rate   \n",
       "Positive Predictive Value                       Precision   \n",
       "False Discovery Rate                                        \n",
       "F-1 Score                                                   \n",
       "\n",
       "                                                           Equation    Value  \n",
       "Accuracy                                              TN+TP / total  100.00%  \n",
       "True Positive Rate                                       TP/(TP+FN)  100.00%  \n",
       "True Negative Rate                                       TN/(TN+FN)  100.00%  \n",
       "False Positive Rate                                      FP/(TN+FN)    0.00%  \n",
       "False Negative Rate                                      TN/(FN+TP)    0.00%  \n",
       "Positive Predictive Value                                TP/(TP+FP)  100.00%  \n",
       "False Discovery Rate                                     FP/(FP+TP)    0.00%  \n",
       "F-1 Score                  2*(Recall*Precision) /(Recall+Precision)  100.00%  "
      ]
     },
     "metadata": {},
     "output_type": "display_data"
    },
    {
     "data": {
      "image/png": "[encoded data removed]",
      "text/plain": [
       "<Figure size 432x288 with 1 Axes>"
      ]
     },
     "metadata": {
      "needs_background": "light"
     },
     "output_type": "display_data"
    }
   ],
   "source": [
    "base_rf = RandomForestClassifier()\n",
    "pprint(base_rf.get_params)\n",
    "base_rf.fit(x_train, y_train)\n",
    "base_accuracy = cm(base_rf, x_test, y_test)"
   ]
  },
  {
   "cell_type": "code",
   "execution_count": 17,
   "id": "db2bbd8b",
   "metadata": {},
   "outputs": [
    {
     "name": "stdout",
     "output_type": "stream",
     "text": [
      "{'bootstrap': True,\n",
      " 'max_depth': 3,\n",
      " 'max_features': 5,\n",
      " 'min_samples_leaf': 0.1,\n",
      " 'min_samples_split': 0.2,\n",
      " 'n_estimators': 11}\n"
     ]
    },
    {
     "data": {
      "text/html": [
       "<div>\n",
       "<style scoped>\n",
       "    .dataframe tbody tr th:only-of-type {\n",
       "        vertical-align: middle;\n",
       "    }\n",
       "\n",
       "    .dataframe tbody tr th {\n",
       "        vertical-align: top;\n",
       "    }\n",
       "\n",
       "    .dataframe thead th {\n",
       "        text-align: right;\n",
       "    }\n",
       "</style>\n",
       "<table border=\"1\" class=\"dataframe\">\n",
       "  <thead>\n",
       "    <tr style=\"text-align: right;\">\n",
       "      <th></th>\n",
       "      <th>Evaluation Metric (other names)</th>\n",
       "      <th>Equation</th>\n",
       "      <th>Value</th>\n",
       "    </tr>\n",
       "  </thead>\n",
       "  <tbody>\n",
       "    <tr>\n",
       "      <th>Accuracy</th>\n",
       "      <td></td>\n",
       "      <td>TN+TP / total</td>\n",
       "      <td>99.87%</td>\n",
       "    </tr>\n",
       "    <tr>\n",
       "      <th>True Positive Rate</th>\n",
       "      <td>Sensitivity, Recall</td>\n",
       "      <td>TP/(TP+FN)</td>\n",
       "      <td>99.88%</td>\n",
       "    </tr>\n",
       "    <tr>\n",
       "      <th>True Negative Rate</th>\n",
       "      <td>Specificity</td>\n",
       "      <td>TN/(TN+FN)</td>\n",
       "      <td>99.53%</td>\n",
       "    </tr>\n",
       "    <tr>\n",
       "      <th>False Positive Rate</th>\n",
       "      <td>Fall-Out</td>\n",
       "      <td>FP/(TN+FN)</td>\n",
       "      <td>0.20%</td>\n",
       "    </tr>\n",
       "    <tr>\n",
       "      <th>False Negative Rate</th>\n",
       "      <td>Miss Rate</td>\n",
       "      <td>TN/(FN+TP)</td>\n",
       "      <td>0.12%</td>\n",
       "    </tr>\n",
       "    <tr>\n",
       "      <th>Positive Predictive Value</th>\n",
       "      <td>Precision</td>\n",
       "      <td>TP/(TP+FP)</td>\n",
       "      <td>99.95%</td>\n",
       "    </tr>\n",
       "    <tr>\n",
       "      <th>False Discovery Rate</th>\n",
       "      <td></td>\n",
       "      <td>FP/(FP+TP)</td>\n",
       "      <td>0.05%</td>\n",
       "    </tr>\n",
       "    <tr>\n",
       "      <th>F-1 Score</th>\n",
       "      <td></td>\n",
       "      <td>2*(Recall*Precision) /(Recall+Precision)</td>\n",
       "      <td>99.92%</td>\n",
       "    </tr>\n",
       "  </tbody>\n",
       "</table>\n",
       "</div>"
      ],
      "text/plain": [
       "                          Evaluation Metric (other names)  \\\n",
       "Accuracy                                                    \n",
       "True Positive Rate                    Sensitivity, Recall   \n",
       "True Negative Rate                            Specificity   \n",
       "False Positive Rate                              Fall-Out   \n",
       "False Negative Rate                             Miss Rate   \n",
       "Positive Predictive Value                       Precision   \n",
       "False Discovery Rate                                        \n",
       "F-1 Score                                                   \n",
       "\n",
       "                                                           Equation   Value  \n",
       "Accuracy                                              TN+TP / total  99.87%  \n",
       "True Positive Rate                                       TP/(TP+FN)  99.88%  \n",
       "True Negative Rate                                       TN/(TN+FN)  99.53%  \n",
       "False Positive Rate                                      FP/(TN+FN)   0.20%  \n",
       "False Negative Rate                                      TN/(FN+TP)   0.12%  \n",
       "Positive Predictive Value                                TP/(TP+FP)  99.95%  \n",
       "False Discovery Rate                                     FP/(FP+TP)   0.05%  \n",
       "F-1 Score                  2*(Recall*Precision) /(Recall+Precision)  99.92%  "
      ]
     },
     "metadata": {},
     "output_type": "display_data"
    },
    {
     "data": {
      "image/png": "[encoded data removed]",
      "text/plain": [
       "<Figure size 432x288 with 1 Axes>"
      ]
     },
     "metadata": {
      "needs_background": "light"
     },
     "output_type": "display_data"
    }
   ],
   "source": [
    "pprint(grid_search.best_params_)\n",
    "\n",
    "best_grid = grid_search.best_estimator_\n",
    "grid_accuracy = cm(best_grid, x_test, y_test)"
   ]
  },
  {
   "cell_type": "code",
   "execution_count": null,
   "id": "077819fc",
   "metadata": {},
   "outputs": [],
   "source": []
  },
  {
   "cell_type": "code",
   "execution_count": 31,
   "id": "2135bb03",
   "metadata": {},
   "outputs": [],
   "source": [
    "def plot_results(model, param = 'n_estimators', name = 'Number of Trees'):\n",
    "    param_name = 'param_%s' % param\n",
    "\n",
    "    # Extract information from the cross validation model\n",
    "    #train_scores = model.cv_results_['mean_train_score']\n",
    "    test_scores = model.cv_results_['mean_test_score']\n",
    "    train_time = model.cv_results_['mean_fit_time']\n",
    "    param_values = list(model.cv_results_[param_name])\n",
    "    \n",
    "    # Plot the scores over the parameter\n",
    "    plt.subplots(1, 2, figsize=(10, 6))\n",
    "    plt.subplot(121)\n",
    "    #plt.plot(param_values, train_scores, 'bo-', label = 'train')\n",
    "    plt.plot(param_values, test_scores, 'go-', label = 'test')\n",
    "    plt.ylim(ymin = 0.9, ymax = 1)\n",
    "    plt.legend()\n",
    "    plt.xlabel(name)\n",
    "    plt.ylabel('Accuracy')\n",
    "    plt.title('Score vs %s' % name)\n",
    "    \n",
    "    plt.subplot(122)\n",
    "    plt.plot(param_values, train_time, 'ro-')\n",
    "    plt.ylim(ymin = 0.0, ymax = 2.0)\n",
    "    plt.xlabel(name)\n",
    "    plt.ylabel('Train Time (sec)')\n",
    "    plt.title('Training Time vs %s' % name)\n",
    "    \n",
    "    \n",
    "    plt.tight_layout(pad = 4)"
   ]
  },
  {
   "cell_type": "code",
   "execution_count": 32,
   "id": "2af1711c",
   "metadata": {},
   "outputs": [
    {
     "name": "stdout",
     "output_type": "stream",
     "text": [
      "Fitting 3 folds for each of 49 candidates, totalling 147 fits\n"
     ]
    },
    {
     "data": {
      "image/png": "[encoded data removed]",
      "text/plain": [
       "<Figure size 720x432 with 2 Axes>"
      ]
     },
     "metadata": {
      "needs_background": "light"
     },
     "output_type": "display_data"
    }
   ],
   "source": [
    "# Grid with only the number of trees changed\n",
    "tree_grid = {'n_estimators': list(range(2,51))}\n",
    "\n",
    "# Create the grid search model and fit to the training data\n",
    "tree_grid_search = GridSearchCV(best_grid, param_grid=tree_grid, verbose = 2, n_jobs=-1, cv = 3, scoring = 'accuracy')\n",
    "tree_grid_search.fit(x_train, y_train)\n",
    "\n",
    "plot_results(tree_grid_search)"
   ]
  },
  {
   "cell_type": "code",
   "execution_count": 40,
   "id": "eca78fbd",
   "metadata": {},
   "outputs": [
    {
     "name": "stdout",
     "output_type": "stream",
     "text": [
      "Fitting 3 folds for each of 28 candidates, totalling 84 fits\n"
     ]
    },
    {
     "data": {
      "image/png": "[encoded data removed]",
      "text/plain": [
       "<Figure size 720x432 with 2 Axes>"
      ]
     },
     "metadata": {
      "needs_background": "light"
     },
     "output_type": "display_data"
    }
   ],
   "source": [
    "feature_grid = {'max_features': list(range(1, x_train.shape[1] + 1))}\n",
    "\n",
    "feature_grid_search = GridSearchCV(best_grid, param_grid=feature_grid, cv = 3, n_jobs=-1, verbose= 2, scoring = 'accuracy')\n",
    "feature_grid_search.fit(x_train, y_train)\n",
    "\n",
    "plot_results(feature_grid_search, param='max_features', name = 'Max Features')"
   ]
  },
  {
   "cell_type": "markdown",
   "id": "f82280ae",
   "metadata": {},
   "source": [
    "#### feature selection"
   ]
  },
  {
   "cell_type": "code",
   "execution_count": 9,
   "id": "6355c2f5",
   "metadata": {},
   "outputs": [
    {
     "data": {
      "text/plain": [
       "SelectFromModel(estimator=RandomForestClassifier(max_depth=3, max_features=5,\n",
       "                                                 min_samples_leaf=0.1,\n",
       "                                                 min_samples_split=0.2,\n",
       "                                                 n_estimators=11))"
      ]
     },
     "execution_count": 9,
     "metadata": {},
     "output_type": "execute_result"
    }
   ],
   "source": [
    "sel = SelectFromModel(best_grid)\n",
    "sel.fit(x_train, y_train)"
   ]
  },
  {
   "cell_type": "code",
   "execution_count": 10,
   "id": "cf30ab09",
   "metadata": {},
   "outputs": [
    {
     "name": "stdout",
     "output_type": "stream",
     "text": [
      "Index(['Subdomain Entropy', 'Payload Entropy', 'longest word Subdomain',\n",
      "       'Numeric Count', 'Subdomain Character Count', 'Subdomain Numeric Count',\n",
      "       'Payload Lowercase Count', 'Payload Special Char Count',\n",
      "       'Avg Subdomain Length (Session)'],\n",
      "      dtype='object')\n"
     ]
    }
   ],
   "source": [
    "selected_feat= df.loc[:,features].columns[(sel.get_support())]\n",
    "print(selected_feat)"
   ]
  },
  {
   "cell_type": "code",
   "execution_count": 11,
   "id": "ff7f3f1a",
   "metadata": {},
   "outputs": [
    {
     "data": {
      "text/plain": [
       "<AxesSubplot:>"
      ]
     },
     "execution_count": 11,
     "metadata": {},
     "output_type": "execute_result"
    },
    {
     "data": {
      "image/png": "[encoded data removed]",
      "text/plain": [
       "<Figure size 432x288 with 1 Axes>"
      ]
     },
     "metadata": {
      "needs_background": "light"
     },
     "output_type": "display_data"
    }
   ],
   "source": [
    "pd.Series(sel.estimator_.feature_importances_.ravel()).hist()"
   ]
  },
  {
   "cell_type": "markdown",
   "id": "7cbb81fa",
   "metadata": {},
   "source": [
    "#### compare to DT/SVM/KNN"
   ]
  },
  {
   "cell_type": "code",
   "execution_count": 37,
   "id": "990a2f79",
   "metadata": {},
   "outputs": [
    {
     "data": {
      "text/html": [
       "<div>\n",
       "<style scoped>\n",
       "    .dataframe tbody tr th:only-of-type {\n",
       "        vertical-align: middle;\n",
       "    }\n",
       "\n",
       "    .dataframe tbody tr th {\n",
       "        vertical-align: top;\n",
       "    }\n",
       "\n",
       "    .dataframe thead th {\n",
       "        text-align: right;\n",
       "    }\n",
       "</style>\n",
       "<table border=\"1\" class=\"dataframe\">\n",
       "  <thead>\n",
       "    <tr style=\"text-align: right;\">\n",
       "      <th></th>\n",
       "      <th>Evaluation Metric (other names)</th>\n",
       "      <th>Equation</th>\n",
       "      <th>Value</th>\n",
       "    </tr>\n",
       "  </thead>\n",
       "  <tbody>\n",
       "    <tr>\n",
       "      <th>Accuracy</th>\n",
       "      <td></td>\n",
       "      <td>TN+TP / total</td>\n",
       "      <td>99.93%</td>\n",
       "    </tr>\n",
       "    <tr>\n",
       "      <th>True Positive Rate</th>\n",
       "      <td>Sensitivity, Recall</td>\n",
       "      <td>TP/(TP+FN)</td>\n",
       "      <td>99.98%</td>\n",
       "    </tr>\n",
       "    <tr>\n",
       "      <th>True Negative Rate</th>\n",
       "      <td>Specificity</td>\n",
       "      <td>TN/(TN+FN)</td>\n",
       "      <td>99.93%</td>\n",
       "    </tr>\n",
       "    <tr>\n",
       "      <th>False Positive Rate</th>\n",
       "      <td>Fall-Out</td>\n",
       "      <td>FP/(TN+FN)</td>\n",
       "      <td>0.27%</td>\n",
       "    </tr>\n",
       "    <tr>\n",
       "      <th>False Negative Rate</th>\n",
       "      <td>Miss Rate</td>\n",
       "      <td>TN/(FN+TP)</td>\n",
       "      <td>0.02%</td>\n",
       "    </tr>\n",
       "    <tr>\n",
       "      <th>Positive Predictive Value</th>\n",
       "      <td>Precision</td>\n",
       "      <td>TP/(TP+FP)</td>\n",
       "      <td>99.93%</td>\n",
       "    </tr>\n",
       "    <tr>\n",
       "      <th>False Discovery Rate</th>\n",
       "      <td></td>\n",
       "      <td>FP/(FP+TP)</td>\n",
       "      <td>0.07%</td>\n",
       "    </tr>\n",
       "    <tr>\n",
       "      <th>F-1 Score</th>\n",
       "      <td></td>\n",
       "      <td>2*(Recall*Precision) /(Recall+Precision)</td>\n",
       "      <td>99.96%</td>\n",
       "    </tr>\n",
       "  </tbody>\n",
       "</table>\n",
       "</div>"
      ],
      "text/plain": [
       "                          Evaluation Metric (other names)  \\\n",
       "Accuracy                                                    \n",
       "True Positive Rate                    Sensitivity, Recall   \n",
       "True Negative Rate                            Specificity   \n",
       "False Positive Rate                              Fall-Out   \n",
       "False Negative Rate                             Miss Rate   \n",
       "Positive Predictive Value                       Precision   \n",
       "False Discovery Rate                                        \n",
       "F-1 Score                                                   \n",
       "\n",
       "                                                           Equation   Value  \n",
       "Accuracy                                              TN+TP / total  99.93%  \n",
       "True Positive Rate                                       TP/(TP+FN)  99.98%  \n",
       "True Negative Rate                                       TN/(TN+FN)  99.93%  \n",
       "False Positive Rate                                      FP/(TN+FN)   0.27%  \n",
       "False Negative Rate                                      TN/(FN+TP)   0.02%  \n",
       "Positive Predictive Value                                TP/(TP+FP)  99.93%  \n",
       "False Discovery Rate                                     FP/(FP+TP)   0.07%  \n",
       "F-1 Score                  2*(Recall*Precision) /(Recall+Precision)  99.96%  "
      ]
     },
     "metadata": {},
     "output_type": "display_data"
    },
    {
     "data": {
      "image/png": "[encoded data removed]",
      "text/plain": [
       "<Figure size 432x288 with 1 Axes>"
      ]
     },
     "metadata": {
      "needs_background": "light"
     },
     "output_type": "display_data"
    }
   ],
   "source": [
    "from sklearn.tree import DecisionTreeClassifier\n",
    "dt = DecisionTreeClassifier()\n",
    "dt.fit(x_train, y_train)\n",
    "dt_accuracy = cm(dt, x_test, y_test)"
   ]
  },
  {
   "cell_type": "code",
   "execution_count": 38,
   "id": "ee886236",
   "metadata": {},
   "outputs": [
    {
     "data": {
      "text/html": [
       "<div>\n",
       "<style scoped>\n",
       "    .dataframe tbody tr th:only-of-type {\n",
       "        vertical-align: middle;\n",
       "    }\n",
       "\n",
       "    .dataframe tbody tr th {\n",
       "        vertical-align: top;\n",
       "    }\n",
       "\n",
       "    .dataframe thead th {\n",
       "        text-align: right;\n",
       "    }\n",
       "</style>\n",
       "<table border=\"1\" class=\"dataframe\">\n",
       "  <thead>\n",
       "    <tr style=\"text-align: right;\">\n",
       "      <th></th>\n",
       "      <th>Evaluation Metric (other names)</th>\n",
       "      <th>Equation</th>\n",
       "      <th>Value</th>\n",
       "    </tr>\n",
       "  </thead>\n",
       "  <tbody>\n",
       "    <tr>\n",
       "      <th>Accuracy</th>\n",
       "      <td></td>\n",
       "      <td>TN+TP / total</td>\n",
       "      <td>99.93%</td>\n",
       "    </tr>\n",
       "    <tr>\n",
       "      <th>True Positive Rate</th>\n",
       "      <td>Sensitivity, Recall</td>\n",
       "      <td>TP/(TP+FN)</td>\n",
       "      <td>99.98%</td>\n",
       "    </tr>\n",
       "    <tr>\n",
       "      <th>True Negative Rate</th>\n",
       "      <td>Specificity</td>\n",
       "      <td>TN/(TN+FN)</td>\n",
       "      <td>99.93%</td>\n",
       "    </tr>\n",
       "    <tr>\n",
       "      <th>False Positive Rate</th>\n",
       "      <td>Fall-Out</td>\n",
       "      <td>FP/(TN+FN)</td>\n",
       "      <td>0.27%</td>\n",
       "    </tr>\n",
       "    <tr>\n",
       "      <th>False Negative Rate</th>\n",
       "      <td>Miss Rate</td>\n",
       "      <td>TN/(FN+TP)</td>\n",
       "      <td>0.02%</td>\n",
       "    </tr>\n",
       "    <tr>\n",
       "      <th>Positive Predictive Value</th>\n",
       "      <td>Precision</td>\n",
       "      <td>TP/(TP+FP)</td>\n",
       "      <td>99.93%</td>\n",
       "    </tr>\n",
       "    <tr>\n",
       "      <th>False Discovery Rate</th>\n",
       "      <td></td>\n",
       "      <td>FP/(FP+TP)</td>\n",
       "      <td>0.07%</td>\n",
       "    </tr>\n",
       "    <tr>\n",
       "      <th>F-1 Score</th>\n",
       "      <td></td>\n",
       "      <td>2*(Recall*Precision) /(Recall+Precision)</td>\n",
       "      <td>99.96%</td>\n",
       "    </tr>\n",
       "  </tbody>\n",
       "</table>\n",
       "</div>"
      ],
      "text/plain": [
       "                          Evaluation Metric (other names)  \\\n",
       "Accuracy                                                    \n",
       "True Positive Rate                    Sensitivity, Recall   \n",
       "True Negative Rate                            Specificity   \n",
       "False Positive Rate                              Fall-Out   \n",
       "False Negative Rate                             Miss Rate   \n",
       "Positive Predictive Value                       Precision   \n",
       "False Discovery Rate                                        \n",
       "F-1 Score                                                   \n",
       "\n",
       "                                                           Equation   Value  \n",
       "Accuracy                                              TN+TP / total  99.93%  \n",
       "True Positive Rate                                       TP/(TP+FN)  99.98%  \n",
       "True Negative Rate                                       TN/(TN+FN)  99.93%  \n",
       "False Positive Rate                                      FP/(TN+FN)   0.27%  \n",
       "False Negative Rate                                      TN/(FN+TP)   0.02%  \n",
       "Positive Predictive Value                                TP/(TP+FP)  99.93%  \n",
       "False Discovery Rate                                     FP/(FP+TP)   0.07%  \n",
       "F-1 Score                  2*(Recall*Precision) /(Recall+Precision)  99.96%  "
      ]
     },
     "metadata": {},
     "output_type": "display_data"
    },
    {
     "data": {
      "image/png": "[encoded data removed]",
      "text/plain": [
       "<Figure size 432x288 with 1 Axes>"
      ]
     },
     "metadata": {
      "needs_background": "light"
     },
     "output_type": "display_data"
    }
   ],
   "source": [
    "from sklearn import svm\n",
    "svm = svm.SVC()\n",
    "svm.fit(x_train, y_train)\n",
    "svm_accuracy = cm(dt, x_test, y_test)"
   ]
  },
  {
   "cell_type": "code",
   "execution_count": 39,
   "id": "21b81112",
   "metadata": {},
   "outputs": [
    {
     "data": {
      "text/html": [
       "<div>\n",
       "<style scoped>\n",
       "    .dataframe tbody tr th:only-of-type {\n",
       "        vertical-align: middle;\n",
       "    }\n",
       "\n",
       "    .dataframe tbody tr th {\n",
       "        vertical-align: top;\n",
       "    }\n",
       "\n",
       "    .dataframe thead th {\n",
       "        text-align: right;\n",
       "    }\n",
       "</style>\n",
       "<table border=\"1\" class=\"dataframe\">\n",
       "  <thead>\n",
       "    <tr style=\"text-align: right;\">\n",
       "      <th></th>\n",
       "      <th>Evaluation Metric (other names)</th>\n",
       "      <th>Equation</th>\n",
       "      <th>Value</th>\n",
       "    </tr>\n",
       "  </thead>\n",
       "  <tbody>\n",
       "    <tr>\n",
       "      <th>Accuracy</th>\n",
       "      <td></td>\n",
       "      <td>TN+TP / total</td>\n",
       "      <td>99.95%</td>\n",
       "    </tr>\n",
       "    <tr>\n",
       "      <th>True Positive Rate</th>\n",
       "      <td>Sensitivity, Recall</td>\n",
       "      <td>TP/(TP+FN)</td>\n",
       "      <td>99.97%</td>\n",
       "    </tr>\n",
       "    <tr>\n",
       "      <th>True Negative Rate</th>\n",
       "      <td>Specificity</td>\n",
       "      <td>TN/(TN+FN)</td>\n",
       "      <td>99.86%</td>\n",
       "    </tr>\n",
       "    <tr>\n",
       "      <th>False Positive Rate</th>\n",
       "      <td>Fall-Out</td>\n",
       "      <td>FP/(TN+FN)</td>\n",
       "      <td>0.14%</td>\n",
       "    </tr>\n",
       "    <tr>\n",
       "      <th>False Negative Rate</th>\n",
       "      <td>Miss Rate</td>\n",
       "      <td>TN/(FN+TP)</td>\n",
       "      <td>0.03%</td>\n",
       "    </tr>\n",
       "    <tr>\n",
       "      <th>Positive Predictive Value</th>\n",
       "      <td>Precision</td>\n",
       "      <td>TP/(TP+FP)</td>\n",
       "      <td>99.97%</td>\n",
       "    </tr>\n",
       "    <tr>\n",
       "      <th>False Discovery Rate</th>\n",
       "      <td></td>\n",
       "      <td>FP/(FP+TP)</td>\n",
       "      <td>0.03%</td>\n",
       "    </tr>\n",
       "    <tr>\n",
       "      <th>F-1 Score</th>\n",
       "      <td></td>\n",
       "      <td>2*(Recall*Precision) /(Recall+Precision)</td>\n",
       "      <td>99.97%</td>\n",
       "    </tr>\n",
       "  </tbody>\n",
       "</table>\n",
       "</div>"
      ],
      "text/plain": [
       "                          Evaluation Metric (other names)  \\\n",
       "Accuracy                                                    \n",
       "True Positive Rate                    Sensitivity, Recall   \n",
       "True Negative Rate                            Specificity   \n",
       "False Positive Rate                              Fall-Out   \n",
       "False Negative Rate                             Miss Rate   \n",
       "Positive Predictive Value                       Precision   \n",
       "False Discovery Rate                                        \n",
       "F-1 Score                                                   \n",
       "\n",
       "                                                           Equation   Value  \n",
       "Accuracy                                              TN+TP / total  99.95%  \n",
       "True Positive Rate                                       TP/(TP+FN)  99.97%  \n",
       "True Negative Rate                                       TN/(TN+FN)  99.86%  \n",
       "False Positive Rate                                      FP/(TN+FN)   0.14%  \n",
       "False Negative Rate                                      TN/(FN+TP)   0.03%  \n",
       "Positive Predictive Value                                TP/(TP+FP)  99.97%  \n",
       "False Discovery Rate                                     FP/(FP+TP)   0.03%  \n",
       "F-1 Score                  2*(Recall*Precision) /(Recall+Precision)  99.97%  "
      ]
     },
     "metadata": {},
     "output_type": "display_data"
    },
    {
     "data": {
      "image/png": "[encoded data removed]",
      "text/plain": [
       "<Figure size 432x288 with 1 Axes>"
      ]
     },
     "metadata": {
      "needs_background": "light"
     },
     "output_type": "display_data"
    }
   ],
   "source": [
    "from sklearn.neighbors import KNeighborsClassifier\n",
    "neigh = KNeighborsClassifier(n_neighbors=3)\n",
    "neigh.fit(x_train, y_train)\n",
    "neigh_accuracy = cm(neigh, x_test, y_test)"
   ]
  },
  {
   "cell_type": "code",
   "execution_count": null,
   "id": "c61b5461",
   "metadata": {},
   "outputs": [],
   "source": []
  }
 ],
 "metadata": {
  "kernelspec": {
   "display_name": "Python 3",
   "language": "python",
   "name": "python3"
  },
  "language_info": {
   "codemirror_mode": {
    "name": "ipython",
    "version": 3
   },
   "file_extension": ".py",
   "mimetype": "text/x-python",
   "name": "python",
   "nbconvert_exporter": "python",
   "pygments_lexer": "ipython3",
   "version": "3.6.13"
  }
 },
 "nbformat": 4,
 "nbformat_minor": 5
}
